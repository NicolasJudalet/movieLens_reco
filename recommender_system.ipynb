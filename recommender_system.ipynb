{
 "cells": [
  {
   "cell_type": "markdown",
   "metadata": {},
   "source": [
    "# Building a recommender system on the Movie Lens dataset 3 - Training the Recommender System\n",
    "\n",
    "**Subject** - Hired by a Parisian cinema, you want to recommend VOD movies to the clients based on what they went to see during the week. What do you recommend for someone who just saw Inferno, by Ron Howard ?\n",
    "\n",
    "**Data** - First start by downloading the MovieLens 20M Dataset (https://grouplens.org/datasets/movielens/) and place the files into your project directory, in a subdirectory named 'data'\n",
    "\n",
    "**This notebook focuses on building the recommender system itself**\n",
    "\n",
    "The ideas explored here are mainly based on the article by Koren and Bell called *Advances in Collaborative Filtering*, taken from the *Recommender System Handbook, 2015*"
   ]
  },
  {
   "cell_type": "code",
   "execution_count": 1,
   "metadata": {},
   "outputs": [],
   "source": [
    "import pandas as pd\n",
    "import numpy as np\n",
    "import seaborn as sns\n",
    "from scipy import stats\n",
    "import matplotlib.pyplot as plt\n",
    "% matplotlib inline"
   ]
  },
  {
   "cell_type": "code",
   "execution_count": 2,
   "metadata": {},
   "outputs": [],
   "source": [
    "project_dir = 'YOUR_PROJECT_DIRECTORY'\n",
    "df_um_matrix_train = pd.read_csv(project_dir+'data/um_matrix_train.csv', encoding = 'utf-8', delimiter=',', index_col = 'userId')\n",
    "df_um_matrix_test = pd.read_csv(project_dir+'data/um_matrix_test.csv', encoding = 'utf-8', delimiter=',', index_col = 'userId')\n",
    "user_ids = df_um_matrix_train.index.values.tolist()\n",
    "movie_ids = df_um_matrix_train.columns.values.tolist()"
   ]
  },
  {
   "cell_type": "code",
   "execution_count": 3,
   "metadata": {},
   "outputs": [
    {
     "data": {
      "text/html": [
       "<div>\n",
       "<style scoped>\n",
       "    .dataframe tbody tr th:only-of-type {\n",
       "        vertical-align: middle;\n",
       "    }\n",
       "\n",
       "    .dataframe tbody tr th {\n",
       "        vertical-align: top;\n",
       "    }\n",
       "\n",
       "    .dataframe thead th {\n",
       "        text-align: right;\n",
       "    }\n",
       "</style>\n",
       "<table border=\"1\" class=\"dataframe\">\n",
       "  <thead>\n",
       "    <tr style=\"text-align: right;\">\n",
       "      <th></th>\n",
       "      <th>1</th>\n",
       "      <th>2</th>\n",
       "      <th>3</th>\n",
       "      <th>4</th>\n",
       "      <th>5</th>\n",
       "      <th>6</th>\n",
       "      <th>7</th>\n",
       "      <th>8</th>\n",
       "      <th>9</th>\n",
       "      <th>10</th>\n",
       "      <th>...</th>\n",
       "      <th>106916</th>\n",
       "      <th>106920</th>\n",
       "      <th>108932</th>\n",
       "      <th>109374</th>\n",
       "      <th>109487</th>\n",
       "      <th>110102</th>\n",
       "      <th>111362</th>\n",
       "      <th>111759</th>\n",
       "      <th>112556</th>\n",
       "      <th>112852</th>\n",
       "    </tr>\n",
       "    <tr>\n",
       "      <th>userId</th>\n",
       "      <th></th>\n",
       "      <th></th>\n",
       "      <th></th>\n",
       "      <th></th>\n",
       "      <th></th>\n",
       "      <th></th>\n",
       "      <th></th>\n",
       "      <th></th>\n",
       "      <th></th>\n",
       "      <th></th>\n",
       "      <th></th>\n",
       "      <th></th>\n",
       "      <th></th>\n",
       "      <th></th>\n",
       "      <th></th>\n",
       "      <th></th>\n",
       "      <th></th>\n",
       "      <th></th>\n",
       "      <th></th>\n",
       "      <th></th>\n",
       "      <th></th>\n",
       "    </tr>\n",
       "  </thead>\n",
       "  <tbody>\n",
       "    <tr>\n",
       "      <th>31</th>\n",
       "      <td>3.0</td>\n",
       "      <td>NaN</td>\n",
       "      <td>NaN</td>\n",
       "      <td>NaN</td>\n",
       "      <td>NaN</td>\n",
       "      <td>NaN</td>\n",
       "      <td>NaN</td>\n",
       "      <td>NaN</td>\n",
       "      <td>NaN</td>\n",
       "      <td>NaN</td>\n",
       "      <td>...</td>\n",
       "      <td>NaN</td>\n",
       "      <td>NaN</td>\n",
       "      <td>NaN</td>\n",
       "      <td>NaN</td>\n",
       "      <td>NaN</td>\n",
       "      <td>NaN</td>\n",
       "      <td>NaN</td>\n",
       "      <td>NaN</td>\n",
       "      <td>NaN</td>\n",
       "      <td>4.5</td>\n",
       "    </tr>\n",
       "    <tr>\n",
       "      <th>34</th>\n",
       "      <td>5.0</td>\n",
       "      <td>3.0</td>\n",
       "      <td>NaN</td>\n",
       "      <td>NaN</td>\n",
       "      <td>NaN</td>\n",
       "      <td>NaN</td>\n",
       "      <td>3.0</td>\n",
       "      <td>NaN</td>\n",
       "      <td>NaN</td>\n",
       "      <td>5.0</td>\n",
       "      <td>...</td>\n",
       "      <td>NaN</td>\n",
       "      <td>NaN</td>\n",
       "      <td>NaN</td>\n",
       "      <td>NaN</td>\n",
       "      <td>NaN</td>\n",
       "      <td>NaN</td>\n",
       "      <td>NaN</td>\n",
       "      <td>NaN</td>\n",
       "      <td>NaN</td>\n",
       "      <td>NaN</td>\n",
       "    </tr>\n",
       "    <tr>\n",
       "      <th>80</th>\n",
       "      <td>3.0</td>\n",
       "      <td>NaN</td>\n",
       "      <td>3.0</td>\n",
       "      <td>NaN</td>\n",
       "      <td>NaN</td>\n",
       "      <td>NaN</td>\n",
       "      <td>3.0</td>\n",
       "      <td>NaN</td>\n",
       "      <td>NaN</td>\n",
       "      <td>NaN</td>\n",
       "      <td>...</td>\n",
       "      <td>NaN</td>\n",
       "      <td>NaN</td>\n",
       "      <td>NaN</td>\n",
       "      <td>NaN</td>\n",
       "      <td>NaN</td>\n",
       "      <td>NaN</td>\n",
       "      <td>NaN</td>\n",
       "      <td>NaN</td>\n",
       "      <td>NaN</td>\n",
       "      <td>NaN</td>\n",
       "    </tr>\n",
       "    <tr>\n",
       "      <th>89</th>\n",
       "      <td>NaN</td>\n",
       "      <td>NaN</td>\n",
       "      <td>NaN</td>\n",
       "      <td>NaN</td>\n",
       "      <td>NaN</td>\n",
       "      <td>NaN</td>\n",
       "      <td>NaN</td>\n",
       "      <td>NaN</td>\n",
       "      <td>NaN</td>\n",
       "      <td>NaN</td>\n",
       "      <td>...</td>\n",
       "      <td>NaN</td>\n",
       "      <td>NaN</td>\n",
       "      <td>NaN</td>\n",
       "      <td>NaN</td>\n",
       "      <td>NaN</td>\n",
       "      <td>NaN</td>\n",
       "      <td>NaN</td>\n",
       "      <td>NaN</td>\n",
       "      <td>NaN</td>\n",
       "      <td>NaN</td>\n",
       "    </tr>\n",
       "    <tr>\n",
       "      <th>94</th>\n",
       "      <td>NaN</td>\n",
       "      <td>NaN</td>\n",
       "      <td>NaN</td>\n",
       "      <td>NaN</td>\n",
       "      <td>NaN</td>\n",
       "      <td>NaN</td>\n",
       "      <td>NaN</td>\n",
       "      <td>NaN</td>\n",
       "      <td>NaN</td>\n",
       "      <td>NaN</td>\n",
       "      <td>...</td>\n",
       "      <td>NaN</td>\n",
       "      <td>NaN</td>\n",
       "      <td>NaN</td>\n",
       "      <td>NaN</td>\n",
       "      <td>NaN</td>\n",
       "      <td>NaN</td>\n",
       "      <td>NaN</td>\n",
       "      <td>NaN</td>\n",
       "      <td>NaN</td>\n",
       "      <td>NaN</td>\n",
       "    </tr>\n",
       "  </tbody>\n",
       "</table>\n",
       "<p>5 rows × 3000 columns</p>\n",
       "</div>"
      ],
      "text/plain": [
       "          1    2    3   4   5   6    7   8   9   10   ...    106916  106920  \\\n",
       "userId                                                ...                     \n",
       "31      3.0  NaN  NaN NaN NaN NaN  NaN NaN NaN  NaN   ...       NaN     NaN   \n",
       "34      5.0  3.0  NaN NaN NaN NaN  3.0 NaN NaN  5.0   ...       NaN     NaN   \n",
       "80      3.0  NaN  3.0 NaN NaN NaN  3.0 NaN NaN  NaN   ...       NaN     NaN   \n",
       "89      NaN  NaN  NaN NaN NaN NaN  NaN NaN NaN  NaN   ...       NaN     NaN   \n",
       "94      NaN  NaN  NaN NaN NaN NaN  NaN NaN NaN  NaN   ...       NaN     NaN   \n",
       "\n",
       "        108932  109374  109487  110102  111362  111759  112556  112852  \n",
       "userId                                                                  \n",
       "31         NaN     NaN     NaN     NaN     NaN     NaN     NaN     4.5  \n",
       "34         NaN     NaN     NaN     NaN     NaN     NaN     NaN     NaN  \n",
       "80         NaN     NaN     NaN     NaN     NaN     NaN     NaN     NaN  \n",
       "89         NaN     NaN     NaN     NaN     NaN     NaN     NaN     NaN  \n",
       "94         NaN     NaN     NaN     NaN     NaN     NaN     NaN     NaN  \n",
       "\n",
       "[5 rows x 3000 columns]"
      ]
     },
     "execution_count": 3,
     "metadata": {},
     "output_type": "execute_result"
    }
   ],
   "source": [
    "df_um_matrix_train.head()"
   ]
  },
  {
   "cell_type": "markdown",
   "metadata": {},
   "source": [
    "## Calculate the baseline predictors"
   ]
  },
  {
   "cell_type": "markdown",
   "metadata": {},
   "source": [
    "**Definition** - \n",
    "CF models try to capture the interactions between users and items that produce the different rating values. However, much of the observed rating values are due to effects associated with either users or items, independently of their interaction. These effects are what baseline predictors (aka *biases*) try to capture."
   ]
  },
  {
   "cell_type": "code",
   "execution_count": 4,
   "metadata": {},
   "outputs": [],
   "source": [
    "mean_rating = np.mean(np.mean(df_um_matrix_train)) # 3.42\n",
    "mean_user_rating = np.mean(df_um_matrix_train, axis = 1)\n",
    "mean_movie_rating = np.mean(df_um_matrix_train, axis = 0)\n",
    "print(mean_movie_rating)"
   ]
  },
  {
   "cell_type": "code",
   "execution_count": 6,
   "metadata": {},
   "outputs": [
    {
     "name": "stdout",
     "output_type": "stream",
     "text": [
      "0 % of the users have rated none the movies selected in the restricted dataset\n",
      "0 % of the movies have not been rated by any user in the restricted dataset\n"
     ]
    }
   ],
   "source": [
    "print(int(mean_user_rating.isnull().sum()/len(mean_user_rating)*100), \n",
    "      '% of the users have rated none the movies selected in the restricted dataset')\n",
    "print(int(mean_movie_rating.isnull().sum()/len(mean_movie_rating)*100), \n",
    "      '% of the movies have not been rated by any user in the restricted dataset')"
   ]
  },
  {
   "cell_type": "code",
   "execution_count": 7,
   "metadata": {},
   "outputs": [],
   "source": [
    "# Filter out the movies that were not rated by any user in the dataset\n",
    "#null_movies_index = mean_movie_rating.index[mean_movie_rating.isnull()].tolist()\n",
    "#cols_to_keep = (~red_um_matrix.columns.isin(null_movies_index)).tolist()\n",
    "#cols_to_keep = (red_um_matrix.columns[cols_to_keep]).tolist()\n",
    "#red_um_matrix = red_um_matrix[cols_to_keep]\n",
    "#movie_ids = [mov for mov in movie_ids if mov in cols_to_keep]\n",
    "#mean_movie_rating = mean_movie_rating[~mean_movie_rating.isnull()]"
   ]
  },
  {
   "cell_type": "code",
   "execution_count": 8,
   "metadata": {},
   "outputs": [],
   "source": [
    "# Calculate the baseline predictions for all movies - we take the user and movie deviations from\n",
    "# the general mean of the dataset\n",
    "user_biases = mean_user_rating - mean_rating\n",
    "movie_biases = mean_movie_rating - mean_rating\n",
    "user_biases_matrix = np.dot(user_biases.values.reshape(user_biases.shape[0], 1), np.ones((1,movie_biases.shape[0])))\n",
    "movie_biases_matrix = np.dot(np.ones((user_biases.shape[0], 1)), movie_biases.values.reshape(1, movie_biases.shape[0]))\n",
    "baseline_prediction = mean_rating + user_biases_matrix + movie_biases_matrix"
   ]
  },
  {
   "cell_type": "markdown",
   "metadata": {},
   "source": [
    "## Neighborhood approach - Calculate the movie similarity matrix\n",
    "\n",
    "We build a first predictor based on a neighborhood approach : we define a similarity measure between users (or items), and use the known evaluations of similar users to predict unknown evaluations. \n",
    "\n",
    "This approach can be applied in a user-user similarity maneer (use the ratings of similar users to predict a test user's ratings), or based on item-item similarity (use the ratings of the test user on items that are similar to predict unknown items)\n",
    "\n",
    "Item-item has proven more efficient than user-user neighborhood approaches *(Koren and Bell, 2015)*. Therefore, we start with this approach."
   ]
  },
  {
   "cell_type": "code",
   "execution_count": 10,
   "metadata": {},
   "outputs": [
    {
     "name": "stdout",
     "output_type": "stream",
     "text": [
      "<class 'pandas.core.frame.DataFrame'>\n",
      "<class 'numpy.ndarray'>\n"
     ]
    }
   ],
   "source": [
    "um_matrix_train = df_um_matrix_train.as_matrix()\n",
    "residuals_matrix = um_matrix_train - baseline_prediction\n",
    "residuals_matrix[np.isnan(residuals_matrix)] = 0"
   ]
  },
  {
   "cell_type": "code",
   "execution_count": 12,
   "metadata": {},
   "outputs": [],
   "source": [
    "scalar_prod = np.dot(residuals_matrix.T, residuals_matrix)\n",
    "movie_norms = np.sqrt(np.diag(scalar_prod))\n",
    "norm_prod = np.outer(movie_norms, movie_norms)"
   ]
  },
  {
   "cell_type": "code",
   "execution_count": 13,
   "metadata": {},
   "outputs": [],
   "source": [
    "pearson_matrix = np.divide(scalar_prod, norm_prod)"
   ]
  },
  {
   "cell_type": "code",
   "execution_count": 15,
   "metadata": {},
   "outputs": [],
   "source": [
    "ind_matrix = (residuals_matrix != 0)*1\n",
    "common_users_matrix = np.matmul(ind_matrix.T, ind_matrix)"
   ]
  },
  {
   "cell_type": "code",
   "execution_count": 16,
   "metadata": {},
   "outputs": [],
   "source": [
    "lambd = 5\n",
    "shrinkage_coeff_matrix = np.divide(common_users_matrix - 1, common_users_matrix - 1 + lambd)"
   ]
  },
  {
   "cell_type": "code",
   "execution_count": 17,
   "metadata": {},
   "outputs": [],
   "source": [
    "movie_sim_matrix = np.multiply(shrinkage_coeff_matrix, pearson_matrix)"
   ]
  },
  {
   "cell_type": "code",
   "execution_count": 18,
   "metadata": {},
   "outputs": [
    {
     "data": {
      "text/html": [
       "<div>\n",
       "<style scoped>\n",
       "    .dataframe tbody tr th:only-of-type {\n",
       "        vertical-align: middle;\n",
       "    }\n",
       "\n",
       "    .dataframe tbody tr th {\n",
       "        vertical-align: top;\n",
       "    }\n",
       "\n",
       "    .dataframe thead th {\n",
       "        text-align: right;\n",
       "    }\n",
       "</style>\n",
       "<table border=\"1\" class=\"dataframe\">\n",
       "  <thead>\n",
       "    <tr style=\"text-align: right;\">\n",
       "      <th></th>\n",
       "      <th>1</th>\n",
       "      <th>2</th>\n",
       "      <th>3</th>\n",
       "      <th>4</th>\n",
       "      <th>5</th>\n",
       "      <th>6</th>\n",
       "      <th>7</th>\n",
       "      <th>8</th>\n",
       "      <th>9</th>\n",
       "      <th>10</th>\n",
       "      <th>...</th>\n",
       "      <th>106916</th>\n",
       "      <th>106920</th>\n",
       "      <th>108932</th>\n",
       "      <th>109374</th>\n",
       "      <th>109487</th>\n",
       "      <th>110102</th>\n",
       "      <th>111362</th>\n",
       "      <th>111759</th>\n",
       "      <th>112556</th>\n",
       "      <th>112852</th>\n",
       "    </tr>\n",
       "  </thead>\n",
       "  <tbody>\n",
       "    <tr>\n",
       "      <th>1</th>\n",
       "      <td>0.997359</td>\n",
       "      <td>0.066453</td>\n",
       "      <td>0.012566</td>\n",
       "      <td>-0.018640</td>\n",
       "      <td>0.001878</td>\n",
       "      <td>-0.012718</td>\n",
       "      <td>-0.010180</td>\n",
       "      <td>-0.009429</td>\n",
       "      <td>-0.031025</td>\n",
       "      <td>0.018364</td>\n",
       "      <td>...</td>\n",
       "      <td>-0.011983</td>\n",
       "      <td>0.006207</td>\n",
       "      <td>0.011258</td>\n",
       "      <td>0.000034</td>\n",
       "      <td>0.014523</td>\n",
       "      <td>0.049030</td>\n",
       "      <td>0.044985</td>\n",
       "      <td>0.003523</td>\n",
       "      <td>0.003113</td>\n",
       "      <td>0.000134</td>\n",
       "    </tr>\n",
       "    <tr>\n",
       "      <th>2</th>\n",
       "      <td>0.066453</td>\n",
       "      <td>0.993880</td>\n",
       "      <td>0.020180</td>\n",
       "      <td>0.021174</td>\n",
       "      <td>0.045816</td>\n",
       "      <td>-0.008419</td>\n",
       "      <td>0.006149</td>\n",
       "      <td>0.015225</td>\n",
       "      <td>0.023057</td>\n",
       "      <td>0.023409</td>\n",
       "      <td>...</td>\n",
       "      <td>-0.020092</td>\n",
       "      <td>0.004049</td>\n",
       "      <td>0.022394</td>\n",
       "      <td>0.011343</td>\n",
       "      <td>0.003178</td>\n",
       "      <td>0.011187</td>\n",
       "      <td>0.013228</td>\n",
       "      <td>0.011956</td>\n",
       "      <td>0.012716</td>\n",
       "      <td>-0.006250</td>\n",
       "    </tr>\n",
       "    <tr>\n",
       "      <th>3</th>\n",
       "      <td>0.012566</td>\n",
       "      <td>0.020180</td>\n",
       "      <td>0.989540</td>\n",
       "      <td>0.015221</td>\n",
       "      <td>0.102209</td>\n",
       "      <td>-0.019541</td>\n",
       "      <td>0.061030</td>\n",
       "      <td>-0.008827</td>\n",
       "      <td>-0.006807</td>\n",
       "      <td>0.023582</td>\n",
       "      <td>...</td>\n",
       "      <td>0.003620</td>\n",
       "      <td>0.001332</td>\n",
       "      <td>0.003490</td>\n",
       "      <td>-0.000135</td>\n",
       "      <td>0.002218</td>\n",
       "      <td>-0.003630</td>\n",
       "      <td>-0.000481</td>\n",
       "      <td>0.001543</td>\n",
       "      <td>-0.000958</td>\n",
       "      <td>-0.000373</td>\n",
       "    </tr>\n",
       "    <tr>\n",
       "      <th>4</th>\n",
       "      <td>-0.018640</td>\n",
       "      <td>0.021174</td>\n",
       "      <td>0.015221</td>\n",
       "      <td>0.951456</td>\n",
       "      <td>0.018908</td>\n",
       "      <td>0.026711</td>\n",
       "      <td>0.027801</td>\n",
       "      <td>0.036798</td>\n",
       "      <td>-0.000226</td>\n",
       "      <td>-0.006480</td>\n",
       "      <td>...</td>\n",
       "      <td>-0.001709</td>\n",
       "      <td>-0.000128</td>\n",
       "      <td>-0.001738</td>\n",
       "      <td>0.001416</td>\n",
       "      <td>-0.000367</td>\n",
       "      <td>-0.000000</td>\n",
       "      <td>-0.000368</td>\n",
       "      <td>0.000297</td>\n",
       "      <td>-0.000048</td>\n",
       "      <td>-0.000740</td>\n",
       "    </tr>\n",
       "    <tr>\n",
       "      <th>5</th>\n",
       "      <td>0.001878</td>\n",
       "      <td>0.045816</td>\n",
       "      <td>0.102209</td>\n",
       "      <td>0.018908</td>\n",
       "      <td>0.989154</td>\n",
       "      <td>-0.025262</td>\n",
       "      <td>0.097306</td>\n",
       "      <td>0.050785</td>\n",
       "      <td>0.025834</td>\n",
       "      <td>0.035151</td>\n",
       "      <td>...</td>\n",
       "      <td>-0.001905</td>\n",
       "      <td>0.000335</td>\n",
       "      <td>-0.004418</td>\n",
       "      <td>-0.000577</td>\n",
       "      <td>-0.015004</td>\n",
       "      <td>0.001040</td>\n",
       "      <td>0.000963</td>\n",
       "      <td>-0.002379</td>\n",
       "      <td>-0.013591</td>\n",
       "      <td>-0.002957</td>\n",
       "    </tr>\n",
       "  </tbody>\n",
       "</table>\n",
       "<p>5 rows × 3000 columns</p>\n",
       "</div>"
      ],
      "text/plain": [
       "          1         2         3         4         5         6         7  \\\n",
       "1  0.997359  0.066453  0.012566 -0.018640  0.001878 -0.012718 -0.010180   \n",
       "2  0.066453  0.993880  0.020180  0.021174  0.045816 -0.008419  0.006149   \n",
       "3  0.012566  0.020180  0.989540  0.015221  0.102209 -0.019541  0.061030   \n",
       "4 -0.018640  0.021174  0.015221  0.951456  0.018908  0.026711  0.027801   \n",
       "5  0.001878  0.045816  0.102209  0.018908  0.989154 -0.025262  0.097306   \n",
       "\n",
       "          8         9        10    ...       106916    106920    108932  \\\n",
       "1 -0.009429 -0.031025  0.018364    ...    -0.011983  0.006207  0.011258   \n",
       "2  0.015225  0.023057  0.023409    ...    -0.020092  0.004049  0.022394   \n",
       "3 -0.008827 -0.006807  0.023582    ...     0.003620  0.001332  0.003490   \n",
       "4  0.036798 -0.000226 -0.006480    ...    -0.001709 -0.000128 -0.001738   \n",
       "5  0.050785  0.025834  0.035151    ...    -0.001905  0.000335 -0.004418   \n",
       "\n",
       "     109374    109487    110102    111362    111759    112556    112852  \n",
       "1  0.000034  0.014523  0.049030  0.044985  0.003523  0.003113  0.000134  \n",
       "2  0.011343  0.003178  0.011187  0.013228  0.011956  0.012716 -0.006250  \n",
       "3 -0.000135  0.002218 -0.003630 -0.000481  0.001543 -0.000958 -0.000373  \n",
       "4  0.001416 -0.000367 -0.000000 -0.000368  0.000297 -0.000048 -0.000740  \n",
       "5 -0.000577 -0.015004  0.001040  0.000963 -0.002379 -0.013591 -0.002957  \n",
       "\n",
       "[5 rows x 3000 columns]"
      ]
     },
     "execution_count": 18,
     "metadata": {},
     "output_type": "execute_result"
    }
   ],
   "source": [
    "movie_sim_matrix = pd.DataFrame(movie_sim_matrix)\n",
    "movie_sim_matrix.index = movie_ids\n",
    "movie_sim_matrix.columns = movie_ids\n",
    "movie_sim_matrix.head()"
   ]
  },
  {
   "cell_type": "markdown",
   "metadata": {},
   "source": [
    "## Generate predictions over the dataset"
   ]
  },
  {
   "cell_type": "markdown",
   "metadata": {},
   "source": [
    "Since we do not know much about the user we are trying to help, ratings predictions are going to be close to the baseline predictions. However, we are going to use the only information we have about this user : that he saw Inferno. \n",
    "\n",
    "**Hypothesis** : We consider the target user as a mean user of the group of users who rated both Da Vinci Code and Angels and Demons (this group contains 40 people). We imput the ratings for 200 randomly chose movies, based on this hypothesis. This enables us to solve the **Cold Start** problem we have (no info about the target user), and feed our model for rating prediction.\n",
    "\n",
    "*Reference* : http://www.yusp.com/blog/cold-start-problem-recommender-systems/"
   ]
  },
  {
   "cell_type": "markdown",
   "metadata": {},
   "source": [
    "**Imput the ratings**"
   ]
  },
  {
   "cell_type": "code",
   "execution_count": 19,
   "metadata": {},
   "outputs": [
    {
     "name": "stdout",
     "output_type": "stream",
     "text": [
      "['Da Vinci Code, The (2006)']\n",
      "['Angels & Demons (2009)']\n"
     ]
    },
    {
     "data": {
      "text/html": [
       "<div>\n",
       "<style scoped>\n",
       "    .dataframe tbody tr th:only-of-type {\n",
       "        vertical-align: middle;\n",
       "    }\n",
       "\n",
       "    .dataframe tbody tr th {\n",
       "        vertical-align: top;\n",
       "    }\n",
       "\n",
       "    .dataframe thead th {\n",
       "        text-align: right;\n",
       "    }\n",
       "</style>\n",
       "<table border=\"1\" class=\"dataframe\">\n",
       "  <thead>\n",
       "    <tr style=\"text-align: right;\">\n",
       "      <th></th>\n",
       "      <th>movieId</th>\n",
       "      <th>title</th>\n",
       "      <th>year</th>\n",
       "      <th>genre_IMAX</th>\n",
       "      <th>genre_Children</th>\n",
       "      <th>genre_Romance</th>\n",
       "      <th>genre_Fantasy</th>\n",
       "      <th>genre_Documentary</th>\n",
       "      <th>genre_Musical</th>\n",
       "      <th>genre_Adventure</th>\n",
       "      <th>...</th>\n",
       "      <th>genre_War</th>\n",
       "      <th>genre_Drama</th>\n",
       "      <th>genre_Western</th>\n",
       "      <th>genre_Film-Noir</th>\n",
       "      <th>genre_Animation</th>\n",
       "      <th>genre_Comedy</th>\n",
       "      <th>genre_Mystery</th>\n",
       "      <th>genre_Action</th>\n",
       "      <th>genre_Sci-Fi</th>\n",
       "      <th>genre_Thriller</th>\n",
       "    </tr>\n",
       "  </thead>\n",
       "  <tbody>\n",
       "    <tr>\n",
       "      <th>11019</th>\n",
       "      <td>45447</td>\n",
       "      <td>Da Vinci Code, The (2006)</td>\n",
       "      <td>2006.0</td>\n",
       "      <td>False</td>\n",
       "      <td>False</td>\n",
       "      <td>False</td>\n",
       "      <td>False</td>\n",
       "      <td>False</td>\n",
       "      <td>False</td>\n",
       "      <td>False</td>\n",
       "      <td>...</td>\n",
       "      <td>False</td>\n",
       "      <td>True</td>\n",
       "      <td>False</td>\n",
       "      <td>False</td>\n",
       "      <td>False</td>\n",
       "      <td>False</td>\n",
       "      <td>True</td>\n",
       "      <td>False</td>\n",
       "      <td>False</td>\n",
       "      <td>True</td>\n",
       "    </tr>\n",
       "    <tr>\n",
       "      <th>13713</th>\n",
       "      <td>68554</td>\n",
       "      <td>Angels &amp; Demons (2009)</td>\n",
       "      <td>2009.0</td>\n",
       "      <td>False</td>\n",
       "      <td>False</td>\n",
       "      <td>False</td>\n",
       "      <td>False</td>\n",
       "      <td>False</td>\n",
       "      <td>False</td>\n",
       "      <td>False</td>\n",
       "      <td>...</td>\n",
       "      <td>False</td>\n",
       "      <td>True</td>\n",
       "      <td>False</td>\n",
       "      <td>False</td>\n",
       "      <td>False</td>\n",
       "      <td>False</td>\n",
       "      <td>True</td>\n",
       "      <td>False</td>\n",
       "      <td>False</td>\n",
       "      <td>True</td>\n",
       "    </tr>\n",
       "  </tbody>\n",
       "</table>\n",
       "<p>2 rows × 22 columns</p>\n",
       "</div>"
      ],
      "text/plain": [
       "       movieId                      title    year  genre_IMAX  genre_Children  \\\n",
       "11019    45447  Da Vinci Code, The (2006)  2006.0       False           False   \n",
       "13713    68554     Angels & Demons (2009)  2009.0       False           False   \n",
       "\n",
       "       genre_Romance  genre_Fantasy  genre_Documentary  genre_Musical  \\\n",
       "11019          False          False              False          False   \n",
       "13713          False          False              False          False   \n",
       "\n",
       "       genre_Adventure       ...        genre_War  genre_Drama  genre_Western  \\\n",
       "11019            False       ...            False         True          False   \n",
       "13713            False       ...            False         True          False   \n",
       "\n",
       "       genre_Film-Noir  genre_Animation  genre_Comedy  genre_Mystery  \\\n",
       "11019            False            False         False           True   \n",
       "13713            False            False         False           True   \n",
       "\n",
       "       genre_Action  genre_Sci-Fi  genre_Thriller  \n",
       "11019         False         False            True  \n",
       "13713         False         False            True  \n",
       "\n",
       "[2 rows x 22 columns]"
      ]
     },
     "execution_count": 19,
     "metadata": {},
     "output_type": "execute_result"
    }
   ],
   "source": [
    "df_movies = pd.read_csv('data/movies_cleaned.csv', encoding='utf-8', sep=',')\n",
    "da_vinci_titles = [mov for mov in df_movies['title'] if 'Da Vinci' in mov]\n",
    "print(da_vinci_titles)\n",
    "angels_and_demons_titles = [mov for mov in df_movies['title'] if 'Angels' in mov and 'Demons' in mov]\n",
    "print(angels_and_demons_titles)\n",
    "df_movies.loc[df_movies['title'].isin(da_vinci_titles + angels_and_demons_titles)]"
   ]
  },
  {
   "cell_type": "code",
   "execution_count": 20,
   "metadata": {},
   "outputs": [],
   "source": [
    "da_vinci_id = 45447\n",
    "angels_demons_id = 68554"
   ]
  },
  {
   "cell_type": "code",
   "execution_count": 21,
   "metadata": {},
   "outputs": [
    {
     "name": "stderr",
     "output_type": "stream",
     "text": [
      "/Library/Frameworks/Python.framework/Versions/3.6/lib/python3.6/site-packages/ipykernel_launcher.py:4: RuntimeWarning: Mean of empty slice\n",
      "  after removing the cwd from sys.path.\n"
     ]
    }
   ],
   "source": [
    "np.random.seed(1)\n",
    "movies_to_imput = np.random.choice(movie_ids, 500, replace=False)\n",
    "inferno_users_subset_ratings = df_um_matrix_train[~np.isnan(df_um_matrix_train[str(da_vinci_id)]) & ~np.isnan(df_um_matrix_train[str(angels_demons_id)])]\n",
    "mean_inferno_users_ratings = np.nanmean(inferno_users_subset_ratings, axis = 0)\n",
    "mean_inferno_users_ratings = mean_inferno_users_ratings.reshape(1, 3000)\n",
    "target_user_ratings = pd.DataFrame(mean_inferno_users_ratings, \n",
    "                                   columns=inferno_users_subset_ratings.columns)\n",
    "target_user_ratings[[col for col in inferno_users_subset_ratings.columns if not col in movies_to_imput]] = np.nan"
   ]
  },
  {
   "cell_type": "code",
   "execution_count": 22,
   "metadata": {},
   "outputs": [
    {
     "name": "stdout",
     "output_type": "stream",
     "text": [
      "Number of ratings imputed to target user :  496\n",
      "Number of movies not rated by target user :  2504\n"
     ]
    },
    {
     "data": {
      "image/png": "[encoded data removed]",
      "text/plain": [
       "<Figure size 432x288 with 1 Axes>"
      ]
     },
     "metadata": {},
     "output_type": "display_data"
    }
   ],
   "source": [
    "print('Number of ratings imputed to target user : ', np.sum(~np.isnan(mean_inferno_users_ratings)))\n",
    "print('Number of movies not rated by target user : ', np.sum(np.isnan(mean_inferno_users_ratings)))\n",
    "tu_ratings = target_user_ratings.values[~np.isnan(target_user_ratings.values)]\n",
    "plt.hist(tu_ratings)\n",
    "plt.title('Distribution of ratings imputed to the target user')\n",
    "plt.show()"
   ]
  },
  {
   "cell_type": "markdown",
   "metadata": {},
   "source": [
    "**Calculate the target user baseline prediction and residuals on known ratings**"
   ]
  },
  {
   "cell_type": "code",
   "execution_count": 24,
   "metadata": {},
   "outputs": [],
   "source": [
    "target_user_mean_rating = np.nanmean(target_user_ratings)\n",
    "target_user_deviation = target_user_mean_rating - mean_rating\n",
    "movies_deviation = mean_movie_rating - mean_rating\n",
    "target_user_baseline_prediction = mean_rating + target_user_deviation + movies_deviation"
   ]
  },
  {
   "cell_type": "code",
   "execution_count": 25,
   "metadata": {},
   "outputs": [],
   "source": [
    "target_user_residuals = target_user_ratings - target_user_baseline_prediction"
   ]
  },
  {
   "cell_type": "code",
   "execution_count": 26,
   "metadata": {},
   "outputs": [
    {
     "data": {
      "image/png": "[encoded data removed]",
      "text/plain": [
       "<Figure size 432x288 with 1 Axes>"
      ]
     },
     "metadata": {},
     "output_type": "display_data"
    }
   ],
   "source": [
    "tu_residuals = target_user_residuals.values[~np.isnan(target_user_residuals.values)]\n",
    "plt.hist(tu_residuals)\n",
    "plt.title('Distribution of residuals for the target user')\n",
    "plt.show()"
   ]
  },
  {
   "cell_type": "markdown",
   "metadata": {},
   "source": [
    "Now that we have residuals for our cinema client, we can predict the ratings he would give to all the movies in our dataset."
   ]
  },
  {
   "cell_type": "markdown",
   "metadata": {},
   "source": [
    "**Evaluate residual term for all missing movies**"
   ]
  },
  {
   "cell_type": "code",
   "execution_count": 34,
   "metadata": {},
   "outputs": [],
   "source": [
    "missing_movies = target_user_ratings.columns[np.isnan(target_user_ratings.values)[0]]"
   ]
  },
  {
   "cell_type": "code",
   "execution_count": 41,
   "metadata": {},
   "outputs": [],
   "source": [
    "res_terms = np.zeros((1, len(missing_movies)))\n",
    "k = 50\n",
    "for i, mov in enumerate(missing_movies):\n",
    "    sim_column = movie_sim_matrix[mov]\n",
    "    k_neighbors = sim_column.nlargest(k)\n",
    "    rated_neighbors = [m for m in k_neighbors.index.values.tolist() if m not in missing_movies]\n",
    "    if len(rated_neighbors)>0 :\n",
    "        k_neighbors_sim = k_neighbors.loc[rated_neighbors].sort_index()\n",
    "        k_neighbors_residuals = target_user_residuals[rated_neighbors].iloc[0].sort_index()\n",
    "        res_terms[0,i] = np.average(k_neighbors_residuals.values, weights=k_neighbors_sim.values)   \n",
    "res_terms = pd.Series(data=res_terms.reshape(res_terms.shape[1]), index=missing_movies)"
   ]
  },
  {
   "cell_type": "code",
   "execution_count": 42,
   "metadata": {},
   "outputs": [
    {
     "data": {
      "image/png": "[encoded data removed]",
      "text/plain": [
       "<Figure size 432x288 with 1 Axes>"
      ]
     },
     "metadata": {},
     "output_type": "display_data"
    }
   ],
   "source": [
    "plt.hist(res_terms)\n",
    "plt.title('Distribution of the residual terms for the target user over the movies')\n",
    "plt.show()"
   ]
  },
  {
   "cell_type": "markdown",
   "metadata": {},
   "source": [
    "**Evaluate the rating prediction for all missing movies**"
   ]
  },
  {
   "cell_type": "code",
   "execution_count": 43,
   "metadata": {},
   "outputs": [],
   "source": [
    "missing_movies_baseline_prediction = target_user_baseline_prediction.loc[missing_movies]\n",
    "missing_movies_res_term = res_terms.loc[missing_movies]\n",
    "missing_movies_prediction = missing_movies_baseline_prediction + missing_movies_res_term"
   ]
  },
  {
   "cell_type": "code",
   "execution_count": 33,
   "metadata": {},
   "outputs": [
    {
     "data": {
      "text/html": [
       "<div>\n",
       "<style scoped>\n",
       "    .dataframe tbody tr th:only-of-type {\n",
       "        vertical-align: middle;\n",
       "    }\n",
       "\n",
       "    .dataframe tbody tr th {\n",
       "        vertical-align: top;\n",
       "    }\n",
       "\n",
       "    .dataframe thead th {\n",
       "        text-align: right;\n",
       "    }\n",
       "</style>\n",
       "<table border=\"1\" class=\"dataframe\">\n",
       "  <thead>\n",
       "    <tr style=\"text-align: right;\">\n",
       "      <th></th>\n",
       "      <th>title</th>\n",
       "      <th>year</th>\n",
       "      <th>pred</th>\n",
       "      <th>base_pred</th>\n",
       "      <th>res_term</th>\n",
       "      <th>movie_sim</th>\n",
       "    </tr>\n",
       "  </thead>\n",
       "  <tbody>\n",
       "    <tr>\n",
       "      <th>1</th>\n",
       "      <td>Toy Story (1995)</td>\n",
       "      <td>1995.0</td>\n",
       "      <td>3.870657</td>\n",
       "      <td>3.832295</td>\n",
       "      <td>0.038362</td>\n",
       "      <td>-0.014755</td>\n",
       "    </tr>\n",
       "    <tr>\n",
       "      <th>2</th>\n",
       "      <td>Jumanji (1995)</td>\n",
       "      <td>1995.0</td>\n",
       "      <td>3.235592</td>\n",
       "      <td>3.213141</td>\n",
       "      <td>0.022451</td>\n",
       "      <td>-0.007544</td>\n",
       "    </tr>\n",
       "    <tr>\n",
       "      <th>3</th>\n",
       "      <td>Grumpier Old Men (1995)</td>\n",
       "      <td>1995.0</td>\n",
       "      <td>3.064323</td>\n",
       "      <td>3.071324</td>\n",
       "      <td>-0.007001</td>\n",
       "      <td>-0.004687</td>\n",
       "    </tr>\n",
       "    <tr>\n",
       "      <th>6</th>\n",
       "      <td>Heat (1995)</td>\n",
       "      <td>1995.0</td>\n",
       "      <td>3.875986</td>\n",
       "      <td>3.729869</td>\n",
       "      <td>0.146117</td>\n",
       "      <td>-0.008436</td>\n",
       "    </tr>\n",
       "    <tr>\n",
       "      <th>8</th>\n",
       "      <td>Tom and Huck (1995)</td>\n",
       "      <td>1995.0</td>\n",
       "      <td>3.191331</td>\n",
       "      <td>3.282084</td>\n",
       "      <td>-0.090752</td>\n",
       "      <td>-0.000046</td>\n",
       "    </tr>\n",
       "  </tbody>\n",
       "</table>\n",
       "</div>"
      ],
      "text/plain": [
       "                     title    year      pred  base_pred  res_term  movie_sim\n",
       "1         Toy Story (1995)  1995.0  3.870657   3.832295  0.038362  -0.014755\n",
       "2           Jumanji (1995)  1995.0  3.235592   3.213141  0.022451  -0.007544\n",
       "3  Grumpier Old Men (1995)  1995.0  3.064323   3.071324 -0.007001  -0.004687\n",
       "6              Heat (1995)  1995.0  3.875986   3.729869  0.146117  -0.008436\n",
       "8      Tom and Huck (1995)  1995.0  3.191331   3.282084 -0.090752  -0.000046"
      ]
     },
     "execution_count": 33,
     "metadata": {},
     "output_type": "execute_result"
    }
   ],
   "source": [
    "movies_info = df_movies[df_movies['movieId'].isin(missing_movies)]\n",
    "movies_info.index = movies_info['movieId'].astype('str')\n",
    "cols_to_drop = [col for col in movies_info.columns if 'genre_' in col]\n",
    "cols_to_drop.append('movieId')\n",
    "movies_info = movies_info.drop(columns = cols_to_drop)\n",
    "movies_info = movies_info.loc[missing_movies]\n",
    "inferno_sim = (movie_sim_matrix[str(da_vinci_id)] + movie_sim_matrix[str(angels_demons_id)])/2\n",
    "inferno_sim = inferno_sim.loc[missing_movies]\n",
    "pred_results = movies_info.join([pd.DataFrame({'pred':missing_movies_prediction}), \n",
    "                  pd.DataFrame({'base_pred':missing_movies_baseline_prediction}),\n",
    "                  pd.DataFrame({'res_term':missing_movies_res_term}),\n",
    "                  pd.DataFrame({'movie_sim' : inferno_sim})])\n",
    "pred_results.head()"
   ]
  },
  {
   "cell_type": "markdown",
   "metadata": {},
   "source": [
    "## Recommend best movies for target user"
   ]
  },
  {
   "cell_type": "markdown",
   "metadata": {},
   "source": [
    "Now that we predicted the ratings over the dataset, we can recommend the best-suited movies for our target user."
   ]
  },
  {
   "cell_type": "markdown",
   "metadata": {},
   "source": [
    "**Pure Rating Prediction Recommendation**"
   ]
  },
  {
   "cell_type": "code",
   "execution_count": 63,
   "metadata": {},
   "outputs": [
    {
     "data": {
      "text/html": [
       "<div>\n",
       "<style scoped>\n",
       "    .dataframe tbody tr th:only-of-type {\n",
       "        vertical-align: middle;\n",
       "    }\n",
       "\n",
       "    .dataframe tbody tr th {\n",
       "        vertical-align: top;\n",
       "    }\n",
       "\n",
       "    .dataframe thead th {\n",
       "        text-align: right;\n",
       "    }\n",
       "</style>\n",
       "<table border=\"1\" class=\"dataframe\">\n",
       "  <thead>\n",
       "    <tr style=\"text-align: right;\">\n",
       "      <th></th>\n",
       "      <th>title</th>\n",
       "      <th>year</th>\n",
       "      <th>pred</th>\n",
       "      <th>base_pred</th>\n",
       "      <th>res_term</th>\n",
       "      <th>movie_sim</th>\n",
       "    </tr>\n",
       "  </thead>\n",
       "  <tbody>\n",
       "    <tr>\n",
       "      <th>5008</th>\n",
       "      <td>Witness for the Prosecution (1957)</td>\n",
       "      <td>1957.0</td>\n",
       "      <td>4.550629</td>\n",
       "      <td>4.276911</td>\n",
       "      <td>0.273718</td>\n",
       "      <td>-0.001993</td>\n",
       "    </tr>\n",
       "    <tr>\n",
       "      <th>945</th>\n",
       "      <td>Top Hat (1935)</td>\n",
       "      <td>1935.0</td>\n",
       "      <td>4.484686</td>\n",
       "      <td>4.133576</td>\n",
       "      <td>0.351110</td>\n",
       "      <td>0.003213</td>\n",
       "    </tr>\n",
       "    <tr>\n",
       "      <th>1248</th>\n",
       "      <td>Touch of Evil (1958)</td>\n",
       "      <td>1958.0</td>\n",
       "      <td>4.457850</td>\n",
       "      <td>4.248175</td>\n",
       "      <td>0.209674</td>\n",
       "      <td>-0.009979</td>\n",
       "    </tr>\n",
       "    <tr>\n",
       "      <th>930</th>\n",
       "      <td>Notorious (1946)</td>\n",
       "      <td>1946.0</td>\n",
       "      <td>4.423788</td>\n",
       "      <td>4.202198</td>\n",
       "      <td>0.221590</td>\n",
       "      <td>-0.014132</td>\n",
       "    </tr>\n",
       "    <tr>\n",
       "      <th>6669</th>\n",
       "      <td>Ikiru (1952)</td>\n",
       "      <td>1952.0</td>\n",
       "      <td>4.413125</td>\n",
       "      <td>4.360655</td>\n",
       "      <td>0.052470</td>\n",
       "      <td>0.011524</td>\n",
       "    </tr>\n",
       "    <tr>\n",
       "      <th>318</th>\n",
       "      <td>Shawshank Redemption, The (1994)</td>\n",
       "      <td>1994.0</td>\n",
       "      <td>4.391347</td>\n",
       "      <td>4.402285</td>\n",
       "      <td>-0.010938</td>\n",
       "      <td>0.022543</td>\n",
       "    </tr>\n",
       "    <tr>\n",
       "      <th>5291</th>\n",
       "      <td>Rashomon (Rashômon) (1950)</td>\n",
       "      <td>1950.0</td>\n",
       "      <td>4.382663</td>\n",
       "      <td>4.200084</td>\n",
       "      <td>0.182579</td>\n",
       "      <td>-0.018869</td>\n",
       "    </tr>\n",
       "    <tr>\n",
       "      <th>1284</th>\n",
       "      <td>Big Sleep, The (1946)</td>\n",
       "      <td>1946.0</td>\n",
       "      <td>4.355210</td>\n",
       "      <td>4.186938</td>\n",
       "      <td>0.168272</td>\n",
       "      <td>0.003519</td>\n",
       "    </tr>\n",
       "    <tr>\n",
       "      <th>50</th>\n",
       "      <td>Usual Suspects, The (1995)</td>\n",
       "      <td>1995.0</td>\n",
       "      <td>4.351168</td>\n",
       "      <td>4.270610</td>\n",
       "      <td>0.080559</td>\n",
       "      <td>0.016020</td>\n",
       "    </tr>\n",
       "    <tr>\n",
       "      <th>922</th>\n",
       "      <td>Sunset Blvd. (a.k.a. Sunset Boulevard) (1950)</td>\n",
       "      <td>1950.0</td>\n",
       "      <td>4.335723</td>\n",
       "      <td>4.085930</td>\n",
       "      <td>0.249793</td>\n",
       "      <td>-0.015302</td>\n",
       "    </tr>\n",
       "  </tbody>\n",
       "</table>\n",
       "</div>"
      ],
      "text/plain": [
       "                                              title    year      pred  \\\n",
       "5008             Witness for the Prosecution (1957)  1957.0  4.550629   \n",
       "945                                  Top Hat (1935)  1935.0  4.484686   \n",
       "1248                           Touch of Evil (1958)  1958.0  4.457850   \n",
       "930                                Notorious (1946)  1946.0  4.423788   \n",
       "6669                                   Ikiru (1952)  1952.0  4.413125   \n",
       "318                Shawshank Redemption, The (1994)  1994.0  4.391347   \n",
       "5291                     Rashomon (Rashômon) (1950)  1950.0  4.382663   \n",
       "1284                          Big Sleep, The (1946)  1946.0  4.355210   \n",
       "50                       Usual Suspects, The (1995)  1995.0  4.351168   \n",
       "922   Sunset Blvd. (a.k.a. Sunset Boulevard) (1950)  1950.0  4.335723   \n",
       "\n",
       "      base_pred  res_term  movie_sim  \n",
       "5008   4.276911  0.273718  -0.001993  \n",
       "945    4.133576  0.351110   0.003213  \n",
       "1248   4.248175  0.209674  -0.009979  \n",
       "930    4.202198  0.221590  -0.014132  \n",
       "6669   4.360655  0.052470   0.011524  \n",
       "318    4.402285 -0.010938   0.022543  \n",
       "5291   4.200084  0.182579  -0.018869  \n",
       "1284   4.186938  0.168272   0.003519  \n",
       "50     4.270610  0.080559   0.016020  \n",
       "922    4.085930  0.249793  -0.015302  "
      ]
     },
     "execution_count": 63,
     "metadata": {},
     "output_type": "execute_result"
    }
   ],
   "source": [
    "pred_results.sort_values('pred', ascending = False).head(10)"
   ]
  },
  {
   "cell_type": "markdown",
   "metadata": {},
   "source": [
    "**Comment** : it seems that on average, the best rated movies in the dataset are old movies, giving much weight to them in the recommendation (through the baseline prediction). Let us check this observation..."
   ]
  },
  {
   "cell_type": "code",
   "execution_count": 78,
   "metadata": {},
   "outputs": [
    {
     "data": {
      "image/png": "[encoded data removed]",
      "text/plain": [
       "<Figure size 432x288 with 1 Axes>"
      ]
     },
     "metadata": {},
     "output_type": "display_data"
    }
   ],
   "source": [
    "pred_results['period'] = np.divmod(pred_results['year'] - 1900, 10)[0]*10 + 1900\n",
    "plot_data = pred_results[['period', 'pred']].groupby('period').mean()\n",
    "x = plot_data.index.astype('float').tolist()\n",
    "y = plot_data['pred'].values.tolist()\n",
    "plt.plot(x, y)\n",
    "plt.title('Average rating given by period')\n",
    "plt.show()"
   ]
  },
  {
   "cell_type": "markdown",
   "metadata": {},
   "source": [
    "Indeed, the average rating given to movies from the 1940's is close to 4, while the rating for 1990's movies is around 3.2... This creates a bias in the recommendations provided by the system toward old movies. \n",
    "\n",
    "From a user experience perspective, we do not want to recommend exclusively old movies, so let us look at what the recommendations would be for movies that are more recent."
   ]
  },
  {
   "cell_type": "markdown",
   "metadata": {},
   "source": [
    "**Prediction by period**"
   ]
  },
  {
   "cell_type": "code",
   "execution_count": 90,
   "metadata": {},
   "outputs": [],
   "source": [
    "recommendation = pd.DataFrame()\n",
    "for p in np.unique(pred_results['period']):\n",
    "    pred_subset = pred_results[pred_results['period'] == p]\n",
    "    period_reco = pred_subset.nlargest(columns='pred', n=5)\n",
    "    recommendation = pd.concat([recommendation, period_reco])"
   ]
  },
  {
   "cell_type": "code",
   "execution_count": 94,
   "metadata": {},
   "outputs": [
    {
     "data": {
      "text/html": [
       "<div>\n",
       "<style scoped>\n",
       "    .dataframe tbody tr th:only-of-type {\n",
       "        vertical-align: middle;\n",
       "    }\n",
       "\n",
       "    .dataframe tbody tr th {\n",
       "        vertical-align: top;\n",
       "    }\n",
       "\n",
       "    .dataframe thead th {\n",
       "        text-align: right;\n",
       "    }\n",
       "</style>\n",
       "<table border=\"1\" class=\"dataframe\">\n",
       "  <thead>\n",
       "    <tr style=\"text-align: right;\">\n",
       "      <th></th>\n",
       "      <th>title</th>\n",
       "      <th>year</th>\n",
       "      <th>pred</th>\n",
       "      <th>base_pred</th>\n",
       "      <th>res_term</th>\n",
       "      <th>movie_sim</th>\n",
       "      <th>period</th>\n",
       "    </tr>\n",
       "  </thead>\n",
       "  <tbody>\n",
       "    <tr>\n",
       "      <th>79132</th>\n",
       "      <td>Inception (2010)</td>\n",
       "      <td>2010.0</td>\n",
       "      <td>4.131333</td>\n",
       "      <td>4.096146</td>\n",
       "      <td>0.035187</td>\n",
       "      <td>0.014830</td>\n",
       "      <td>2010.0</td>\n",
       "    </tr>\n",
       "    <tr>\n",
       "      <th>112556</th>\n",
       "      <td>Gone Girl (2014)</td>\n",
       "      <td>2014.0</td>\n",
       "      <td>4.106919</td>\n",
       "      <td>4.125961</td>\n",
       "      <td>-0.019042</td>\n",
       "      <td>0.034954</td>\n",
       "      <td>2010.0</td>\n",
       "    </tr>\n",
       "    <tr>\n",
       "      <th>92259</th>\n",
       "      <td>Intouchables (2011)</td>\n",
       "      <td>2011.0</td>\n",
       "      <td>4.089896</td>\n",
       "      <td>4.142868</td>\n",
       "      <td>-0.052972</td>\n",
       "      <td>0.002422</td>\n",
       "      <td>2010.0</td>\n",
       "    </tr>\n",
       "    <tr>\n",
       "      <th>78499</th>\n",
       "      <td>Toy Story 3 (2010)</td>\n",
       "      <td>2010.0</td>\n",
       "      <td>4.069860</td>\n",
       "      <td>3.934511</td>\n",
       "      <td>0.135349</td>\n",
       "      <td>-0.010019</td>\n",
       "      <td>2010.0</td>\n",
       "    </tr>\n",
       "    <tr>\n",
       "      <th>109487</th>\n",
       "      <td>Interstellar (2014)</td>\n",
       "      <td>2014.0</td>\n",
       "      <td>4.040930</td>\n",
       "      <td>4.016699</td>\n",
       "      <td>0.024231</td>\n",
       "      <td>0.017037</td>\n",
       "      <td>2010.0</td>\n",
       "    </tr>\n",
       "  </tbody>\n",
       "</table>\n",
       "</div>"
      ],
      "text/plain": [
       "                      title    year      pred  base_pred  res_term  movie_sim  \\\n",
       "79132      Inception (2010)  2010.0  4.131333   4.096146  0.035187   0.014830   \n",
       "112556     Gone Girl (2014)  2014.0  4.106919   4.125961 -0.019042   0.034954   \n",
       "92259   Intouchables (2011)  2011.0  4.089896   4.142868 -0.052972   0.002422   \n",
       "78499    Toy Story 3 (2010)  2010.0  4.069860   3.934511  0.135349  -0.010019   \n",
       "109487  Interstellar (2014)  2014.0  4.040930   4.016699  0.024231   0.017037   \n",
       "\n",
       "        period  \n",
       "79132   2010.0  \n",
       "112556  2010.0  \n",
       "92259   2010.0  \n",
       "78499   2010.0  \n",
       "109487  2010.0  "
      ]
     },
     "execution_count": 94,
     "metadata": {},
     "output_type": "execute_result"
    }
   ],
   "source": [
    "recommendation[recommendation['period'] == 2010]"
   ]
  },
  {
   "cell_type": "markdown",
   "metadata": {},
   "source": [
    "The predictions are better, though the baseline_predictors have much weight in the final outcome, giving a bias toward generally liked movies, but not very specific to the current user. Let us look at the similarity measure of the movies with Da Vinci Code and Anges & Demons, to get more user-specific recommendations."
   ]
  },
  {
   "cell_type": "markdown",
   "metadata": {},
   "source": [
    "**Prediction by movie similarity**"
   ]
  },
  {
   "cell_type": "code",
   "execution_count": 98,
   "metadata": {},
   "outputs": [
    {
     "data": {
      "text/html": [
       "<div>\n",
       "<style scoped>\n",
       "    .dataframe tbody tr th:only-of-type {\n",
       "        vertical-align: middle;\n",
       "    }\n",
       "\n",
       "    .dataframe tbody tr th {\n",
       "        vertical-align: top;\n",
       "    }\n",
       "\n",
       "    .dataframe thead th {\n",
       "        text-align: right;\n",
       "    }\n",
       "</style>\n",
       "<table border=\"1\" class=\"dataframe\">\n",
       "  <thead>\n",
       "    <tr style=\"text-align: right;\">\n",
       "      <th></th>\n",
       "      <th>title</th>\n",
       "      <th>year</th>\n",
       "      <th>pred</th>\n",
       "      <th>base_pred</th>\n",
       "      <th>res_term</th>\n",
       "      <th>movie_sim</th>\n",
       "      <th>period</th>\n",
       "    </tr>\n",
       "  </thead>\n",
       "  <tbody>\n",
       "    <tr>\n",
       "      <th>45447</th>\n",
       "      <td>Da Vinci Code, The (2006)</td>\n",
       "      <td>2006.0</td>\n",
       "      <td>3.020216</td>\n",
       "      <td>3.053845</td>\n",
       "      <td>-0.033629</td>\n",
       "      <td>0.548396</td>\n",
       "      <td>2000.0</td>\n",
       "    </tr>\n",
       "    <tr>\n",
       "      <th>68554</th>\n",
       "      <td>Angels &amp; Demons (2009)</td>\n",
       "      <td>2009.0</td>\n",
       "      <td>2.876683</td>\n",
       "      <td>3.022993</td>\n",
       "      <td>-0.146309</td>\n",
       "      <td>0.525373</td>\n",
       "      <td>2000.0</td>\n",
       "    </tr>\n",
       "    <tr>\n",
       "      <th>8972</th>\n",
       "      <td>National Treasure (2004)</td>\n",
       "      <td>2004.0</td>\n",
       "      <td>3.411054</td>\n",
       "      <td>3.422343</td>\n",
       "      <td>-0.011290</td>\n",
       "      <td>0.113777</td>\n",
       "      <td>2000.0</td>\n",
       "    </tr>\n",
       "    <tr>\n",
       "      <th>8984</th>\n",
       "      <td>Ocean's Twelve (2004)</td>\n",
       "      <td>2004.0</td>\n",
       "      <td>3.244278</td>\n",
       "      <td>3.233031</td>\n",
       "      <td>0.011247</td>\n",
       "      <td>0.107404</td>\n",
       "      <td>2000.0</td>\n",
       "    </tr>\n",
       "    <tr>\n",
       "      <th>63876</th>\n",
       "      <td>Milk (2008)</td>\n",
       "      <td>2008.0</td>\n",
       "      <td>3.729055</td>\n",
       "      <td>3.894040</td>\n",
       "      <td>-0.164986</td>\n",
       "      <td>0.099949</td>\n",
       "      <td>2000.0</td>\n",
       "    </tr>\n",
       "    <tr>\n",
       "      <th>31696</th>\n",
       "      <td>Constantine (2005)</td>\n",
       "      <td>2005.0</td>\n",
       "      <td>3.276274</td>\n",
       "      <td>3.153560</td>\n",
       "      <td>0.122714</td>\n",
       "      <td>0.087974</td>\n",
       "      <td>2000.0</td>\n",
       "    </tr>\n",
       "    <tr>\n",
       "      <th>59369</th>\n",
       "      <td>Taken (2008)</td>\n",
       "      <td>2008.0</td>\n",
       "      <td>3.684909</td>\n",
       "      <td>3.723975</td>\n",
       "      <td>-0.039066</td>\n",
       "      <td>0.087020</td>\n",
       "      <td>2000.0</td>\n",
       "    </tr>\n",
       "  </tbody>\n",
       "</table>\n",
       "</div>"
      ],
      "text/plain": [
       "                           title    year      pred  base_pred  res_term  \\\n",
       "45447  Da Vinci Code, The (2006)  2006.0  3.020216   3.053845 -0.033629   \n",
       "68554     Angels & Demons (2009)  2009.0  2.876683   3.022993 -0.146309   \n",
       "8972    National Treasure (2004)  2004.0  3.411054   3.422343 -0.011290   \n",
       "8984       Ocean's Twelve (2004)  2004.0  3.244278   3.233031  0.011247   \n",
       "63876                Milk (2008)  2008.0  3.729055   3.894040 -0.164986   \n",
       "31696         Constantine (2005)  2005.0  3.276274   3.153560  0.122714   \n",
       "59369               Taken (2008)  2008.0  3.684909   3.723975 -0.039066   \n",
       "\n",
       "       movie_sim  period  \n",
       "45447   0.548396  2000.0  \n",
       "68554   0.525373  2000.0  \n",
       "8972    0.113777  2000.0  \n",
       "8984    0.107404  2000.0  \n",
       "63876   0.099949  2000.0  \n",
       "31696   0.087974  2000.0  \n",
       "59369   0.087020  2000.0  "
      ]
     },
     "execution_count": 98,
     "metadata": {},
     "output_type": "execute_result"
    }
   ],
   "source": [
    "pred_results.sort_values('movie_sim', ascending = False).head(7)"
   ]
  },
  {
   "cell_type": "markdown",
   "metadata": {},
   "source": [
    "As expected, Da Vinci Code and Angels & Demons are the movies with highest similarity to Inferno (since we constructed the Inferno similarity through those two). The movies that are then found most similar to Inferno in the dataset are recent movies, rather in the genre \"Action\", which is consistent with what we know of Inferno.\n",
    "\n",
    "However, some of these movies do not have a very good baseline rating (3.23 for Ocean's Twelve for example, which is below the average of the dataset) so the estimated prediction is not so high."
   ]
  },
  {
   "cell_type": "markdown",
   "metadata": {},
   "source": [
    "## Conclusion for the recommendation part\n",
    "\n",
    "Finally the ranking by pure movie similarity seems quite ok, given the fact that we know very little about the user. We could implement and present several kinds of rankings, for example :\n",
    "\n",
    "- *\"Users who liked Inferno also liked...\"*, based on the movie similarity measure\n",
    "- *\"Best Rated movies for you\"* based on the rating predictions, including movies from several periods\n",
    "- *\"Best 1940's Movies for you\"*, breaking the recommendation by period.\n",
    "\n",
    "Choosing the best way to present the results is then based on user experience, that can be investigated through AB testing for example."
   ]
  }
 ],
 "metadata": {
  "kernelspec": {
   "display_name": "Python 3",
   "language": "python",
   "name": "python3"
  },
  "language_info": {
   "codemirror_mode": {
    "name": "ipython",
    "version": 3
   },
   "file_extension": ".py",
   "mimetype": "text/x-python",
   "name": "python",
   "nbconvert_exporter": "python",
   "pygments_lexer": "ipython3",
   "version": "3.6.5"
  }
 },
 "nbformat": 4,
 "nbformat_minor": 2
}
