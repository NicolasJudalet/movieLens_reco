{
 "cells": [
  {
   "cell_type": "markdown",
   "metadata": {},
   "source": [
    "# Building a Recommender System on the Movie Lens dataset 2 - Preparing the ratings table\n",
    "\n",
    "**Subject** - Hired by a Parisian cinema, you want to recommend VOD movies to the clients based on what they went to see during the week. What do you recommend for someone who just saw Inferno, by Ron Howard ?\n",
    "\n",
    "**Data** - First start by downloading the MovieLens 20M Dataset (https://grouplens.org/datasets/movielens/) and place the files into your project directory, in a subdirectory named 'data'\n",
    "\n",
    "**This notebook focuses on preparing the ratings table before building the recommender system**\n",
    "\n",
    "The ideas explored here are mainly based on the article by Koren and Bell called *Advances in Collaborative Filtering*, taken from the *Recommender System Handbook, 2015*"
   ]
  },
  {
   "cell_type": "code",
   "execution_count": 1,
   "metadata": {},
   "outputs": [],
   "source": [
    "import pandas as pd\n",
    "import numpy as np\n",
    "import seaborn as sns\n",
    "from scipy import stats\n",
    "import matplotlib.pyplot as plt\n",
    "% matplotlib inline"
   ]
  },
  {
   "cell_type": "markdown",
   "metadata": {},
   "source": [
    "### 1. Chargement des données"
   ]
  },
  {
   "cell_type": "code",
   "execution_count": 2,
   "metadata": {},
   "outputs": [],
   "source": [
    "project_dir = 'YOUR_PROJECT_DIRECTORY'\n",
    "df_ratings = pd.read_csv(project_dir+'data/ratings.csv', encoding = 'utf-8', delimiter=',')"
   ]
  },
  {
   "cell_type": "code",
   "execution_count": 3,
   "metadata": {},
   "outputs": [
    {
     "data": {
      "text/html": [
       "<div>\n",
       "<style scoped>\n",
       "    .dataframe tbody tr th:only-of-type {\n",
       "        vertical-align: middle;\n",
       "    }\n",
       "\n",
       "    .dataframe tbody tr th {\n",
       "        vertical-align: top;\n",
       "    }\n",
       "\n",
       "    .dataframe thead th {\n",
       "        text-align: right;\n",
       "    }\n",
       "</style>\n",
       "<table border=\"1\" class=\"dataframe\">\n",
       "  <thead>\n",
       "    <tr style=\"text-align: right;\">\n",
       "      <th></th>\n",
       "      <th>userId</th>\n",
       "      <th>movieId</th>\n",
       "      <th>rating</th>\n",
       "      <th>timestamp</th>\n",
       "    </tr>\n",
       "  </thead>\n",
       "  <tbody>\n",
       "    <tr>\n",
       "      <th>0</th>\n",
       "      <td>1</td>\n",
       "      <td>2</td>\n",
       "      <td>3.5</td>\n",
       "      <td>1112486027</td>\n",
       "    </tr>\n",
       "    <tr>\n",
       "      <th>1</th>\n",
       "      <td>1</td>\n",
       "      <td>29</td>\n",
       "      <td>3.5</td>\n",
       "      <td>1112484676</td>\n",
       "    </tr>\n",
       "    <tr>\n",
       "      <th>2</th>\n",
       "      <td>1</td>\n",
       "      <td>32</td>\n",
       "      <td>3.5</td>\n",
       "      <td>1112484819</td>\n",
       "    </tr>\n",
       "    <tr>\n",
       "      <th>3</th>\n",
       "      <td>1</td>\n",
       "      <td>47</td>\n",
       "      <td>3.5</td>\n",
       "      <td>1112484727</td>\n",
       "    </tr>\n",
       "    <tr>\n",
       "      <th>4</th>\n",
       "      <td>1</td>\n",
       "      <td>50</td>\n",
       "      <td>3.5</td>\n",
       "      <td>1112484580</td>\n",
       "    </tr>\n",
       "  </tbody>\n",
       "</table>\n",
       "</div>"
      ],
      "text/plain": [
       "   userId  movieId  rating   timestamp\n",
       "0       1        2     3.5  1112486027\n",
       "1       1       29     3.5  1112484676\n",
       "2       1       32     3.5  1112484819\n",
       "3       1       47     3.5  1112484727\n",
       "4       1       50     3.5  1112484580"
      ]
     },
     "execution_count": 3,
     "metadata": {},
     "output_type": "execute_result"
    }
   ],
   "source": [
    "df_ratings.head()"
   ]
  },
  {
   "cell_type": "code",
   "execution_count": 4,
   "metadata": {},
   "outputs": [
    {
     "data": {
      "text/plain": [
       "(20000263, 4)"
      ]
     },
     "execution_count": 4,
     "metadata": {},
     "output_type": "execute_result"
    }
   ],
   "source": [
    "df_ratings.shape"
   ]
  },
  {
   "cell_type": "markdown",
   "metadata": {},
   "source": [
    "Cette table de données est très longue (20M ratings), ce qui risque de créer un problème de calcul pour traiter cette information de manière efficace en utilisant seulement un ordinateur en local."
   ]
  },
  {
   "cell_type": "code",
   "execution_count": 5,
   "metadata": {},
   "outputs": [],
   "source": [
    "df_ratings = df_ratings.drop('timestamp', axis = 1) # we are not going to use the timestamp in our\n",
    "# first simple model"
   ]
  },
  {
   "cell_type": "markdown",
   "metadata": {},
   "source": [
    "### 2. Analyse de la base de données\n",
    "\n",
    "#### 2.1.Utilisateurs"
   ]
  },
  {
   "cell_type": "code",
   "execution_count": 6,
   "metadata": {},
   "outputs": [
    {
     "name": "stdout",
     "output_type": "stream",
     "text": [
      "138493 \n",
      "\n",
      "118205    9254\n",
      "8405      7515\n",
      "82418     5646\n",
      "121535    5520\n",
      "125794    5491\n",
      "Name: userId, dtype: int64 \n",
      "\n",
      "18290    20\n",
      "59390    20\n",
      "23558    20\n",
      "34668    20\n",
      "80291    20\n",
      "Name: userId, dtype: int64\n"
     ]
    }
   ],
   "source": [
    "user_vc = df_ratings.userId.value_counts()\n",
    "print(len(user_vc), '\\n')\n",
    "print(user_vc[0:5], '\\n')\n",
    "print(user_vc[-6:-1])"
   ]
  },
  {
   "cell_type": "markdown",
   "metadata": {},
   "source": [
    "**Analyse des utilisateurs**\n",
    "- Nombre de users dans la base de données : **138493**\n",
    "- Plus grand nombre de films notés par un utilisateur : **9254** films (*user 118205*)\n",
    "- Plus petit nombre de films notés par un utilisateur : **20** films (correspond au critère de construction de la base de données)"
   ]
  },
  {
   "cell_type": "markdown",
   "metadata": {},
   "source": [
    "#### 2.2. Films"
   ]
  },
  {
   "cell_type": "code",
   "execution_count": 7,
   "metadata": {},
   "outputs": [
    {
     "name": "stdout",
     "output_type": "stream",
     "text": [
      "26744 \n",
      "\n",
      "296    67310\n",
      "356    66172\n",
      "318    63366\n",
      "593    63299\n",
      "480    59715\n",
      "Name: movieId, dtype: int64 \n",
      "\n",
      "123600    1\n",
      "123607    1\n",
      "90823     1\n",
      "123609    1\n",
      "123613    1\n",
      "Name: movieId, dtype: int64\n"
     ]
    }
   ],
   "source": [
    "movie_vc = df_ratings.movieId.value_counts()\n",
    "print(len(movie_vc), '\\n')\n",
    "print(movie_vc[0:5], '\\n')\n",
    "print(movie_vc[-6:-1])"
   ]
  },
  {
   "cell_type": "markdown",
   "metadata": {},
   "source": [
    "**Analyse des films**\n",
    "- Nombre de films dans la base de données : **26744** films\n",
    "- Film le plus souvent noté : id296 - il s'agit de **Pulp Fiction, de Quentin Tarantino**, noté par 67310 utilisateurs *(d'après la table movies.csv dans le dossier data)*\n",
    "- **De nombreux films n'ont été notés qu'une seule fois...**"
   ]
  },
  {
   "cell_type": "markdown",
   "metadata": {},
   "source": [
    "#### 2.3. Inferno, de Ron Howard"
   ]
  },
  {
   "cell_type": "code",
   "execution_count": 8,
   "metadata": {},
   "outputs": [
    {
     "data": {
      "text/plain": [
       "['Towering Inferno, The (1974)',\n",
       " 'Inferno (1980)',\n",
       " 'Hellraiser: Inferno (2000)',\n",
       " 'Inferno (1953)',\n",
       " \"Dante's Inferno (1935)\",\n",
       " 'Desert Heat (Inferno) (1999)',\n",
       " \"Dante's Inferno Animated (2010)\",\n",
       " \"Henri-Georges Clouzot's Inferno (L'enfer d'Henri-Georges Clouzot) (2009)\",\n",
       " \"Dante's Inferno: An Animated Epic (2010)\",\n",
       " 'Death Race 3: Inferno (2012)',\n",
       " 'Cut and Run (Inferno in diretta) (1985)',\n",
       " \"Building the Inferno: Nobuo Nakagawa and the Making of 'Jigoku' (2006)\",\n",
       " \"Dante's Inferno (2007)\"]"
      ]
     },
     "execution_count": 8,
     "metadata": {},
     "output_type": "execute_result"
    }
   ],
   "source": [
    "df_movies = pd.read_csv('data/movies_cleaned.csv', encoding='utf-8', sep=',')\n",
    "inferno_titles = [mov for mov in df_movies['title'] if 'Inferno' in mov]\n",
    "inferno_titles"
   ]
  },
  {
   "cell_type": "markdown",
   "metadata": {},
   "source": [
    "**Inferno ne figure pas dans la base de données...**\n",
    "\n",
    "D'après Allociné (http://www.allocine.fr/film/fichefilm_gen_cfilm=222798.html), Inferno est en effet sorti en 2016, soit un an après les films les plus récents contenus dans la base. \n",
    "En revanche, ce film est la suite de deux autres films plus anciens : **Da Vinci Code** (2006) et **Angels and Demons** (2009), avec les mêmes acteurs principaux (Tom Hanks) et le même réalisateur (Ron Howard). Vérifions qu'au moins l'un de ces deux films figure bien dans la base. "
   ]
  },
  {
   "cell_type": "code",
   "execution_count": 9,
   "metadata": {},
   "outputs": [
    {
     "name": "stdout",
     "output_type": "stream",
     "text": [
      "['Da Vinci Code, The (2006)']\n",
      "['Angels & Demons (2009)']\n"
     ]
    }
   ],
   "source": [
    "da_vinci_titles = [mov for mov in df_movies['title'] if 'Da Vinci' in mov]\n",
    "print(da_vinci_titles)\n",
    "angels_and_demons_titles = [mov for mov in df_movies['title'] if 'Angels' in mov and 'Demons' in mov]\n",
    "print(angels_and_demons_titles)"
   ]
  },
  {
   "cell_type": "code",
   "execution_count": 10,
   "metadata": {},
   "outputs": [
    {
     "data": {
      "text/html": [
       "<div>\n",
       "<style scoped>\n",
       "    .dataframe tbody tr th:only-of-type {\n",
       "        vertical-align: middle;\n",
       "    }\n",
       "\n",
       "    .dataframe tbody tr th {\n",
       "        vertical-align: top;\n",
       "    }\n",
       "\n",
       "    .dataframe thead th {\n",
       "        text-align: right;\n",
       "    }\n",
       "</style>\n",
       "<table border=\"1\" class=\"dataframe\">\n",
       "  <thead>\n",
       "    <tr style=\"text-align: right;\">\n",
       "      <th></th>\n",
       "      <th>movieId</th>\n",
       "      <th>title</th>\n",
       "      <th>year</th>\n",
       "      <th>genre_IMAX</th>\n",
       "      <th>genre_Children</th>\n",
       "      <th>genre_Romance</th>\n",
       "      <th>genre_Fantasy</th>\n",
       "      <th>genre_Documentary</th>\n",
       "      <th>genre_Musical</th>\n",
       "      <th>genre_Adventure</th>\n",
       "      <th>...</th>\n",
       "      <th>genre_War</th>\n",
       "      <th>genre_Drama</th>\n",
       "      <th>genre_Western</th>\n",
       "      <th>genre_Film-Noir</th>\n",
       "      <th>genre_Animation</th>\n",
       "      <th>genre_Comedy</th>\n",
       "      <th>genre_Mystery</th>\n",
       "      <th>genre_Action</th>\n",
       "      <th>genre_Sci-Fi</th>\n",
       "      <th>genre_Thriller</th>\n",
       "    </tr>\n",
       "  </thead>\n",
       "  <tbody>\n",
       "    <tr>\n",
       "      <th>11019</th>\n",
       "      <td>45447</td>\n",
       "      <td>Da Vinci Code, The (2006)</td>\n",
       "      <td>2006.0</td>\n",
       "      <td>False</td>\n",
       "      <td>False</td>\n",
       "      <td>False</td>\n",
       "      <td>False</td>\n",
       "      <td>False</td>\n",
       "      <td>False</td>\n",
       "      <td>False</td>\n",
       "      <td>...</td>\n",
       "      <td>False</td>\n",
       "      <td>True</td>\n",
       "      <td>False</td>\n",
       "      <td>False</td>\n",
       "      <td>False</td>\n",
       "      <td>False</td>\n",
       "      <td>True</td>\n",
       "      <td>False</td>\n",
       "      <td>False</td>\n",
       "      <td>True</td>\n",
       "    </tr>\n",
       "    <tr>\n",
       "      <th>13713</th>\n",
       "      <td>68554</td>\n",
       "      <td>Angels &amp; Demons (2009)</td>\n",
       "      <td>2009.0</td>\n",
       "      <td>False</td>\n",
       "      <td>False</td>\n",
       "      <td>False</td>\n",
       "      <td>False</td>\n",
       "      <td>False</td>\n",
       "      <td>False</td>\n",
       "      <td>False</td>\n",
       "      <td>...</td>\n",
       "      <td>False</td>\n",
       "      <td>True</td>\n",
       "      <td>False</td>\n",
       "      <td>False</td>\n",
       "      <td>False</td>\n",
       "      <td>False</td>\n",
       "      <td>True</td>\n",
       "      <td>False</td>\n",
       "      <td>False</td>\n",
       "      <td>True</td>\n",
       "    </tr>\n",
       "  </tbody>\n",
       "</table>\n",
       "<p>2 rows × 22 columns</p>\n",
       "</div>"
      ],
      "text/plain": [
       "       movieId                      title    year  genre_IMAX  genre_Children  \\\n",
       "11019    45447  Da Vinci Code, The (2006)  2006.0       False           False   \n",
       "13713    68554     Angels & Demons (2009)  2009.0       False           False   \n",
       "\n",
       "       genre_Romance  genre_Fantasy  genre_Documentary  genre_Musical  \\\n",
       "11019          False          False              False          False   \n",
       "13713          False          False              False          False   \n",
       "\n",
       "       genre_Adventure       ...        genre_War  genre_Drama  genre_Western  \\\n",
       "11019            False       ...            False         True          False   \n",
       "13713            False       ...            False         True          False   \n",
       "\n",
       "       genre_Film-Noir  genre_Animation  genre_Comedy  genre_Mystery  \\\n",
       "11019            False            False         False           True   \n",
       "13713            False            False         False           True   \n",
       "\n",
       "       genre_Action  genre_Sci-Fi  genre_Thriller  \n",
       "11019         False         False            True  \n",
       "13713         False         False            True  \n",
       "\n",
       "[2 rows x 22 columns]"
      ]
     },
     "execution_count": 10,
     "metadata": {},
     "output_type": "execute_result"
    }
   ],
   "source": [
    "df_movies.loc[df_movies['title'].isin(da_vinci_titles + angels_and_demons_titles)]"
   ]
  },
  {
   "cell_type": "markdown",
   "metadata": {},
   "source": [
    "**Les deux films sont bien dans la base de données. Nous allons donc les utiliser comme proxi pour Inferno, en l'absence d'informations sur ce dernier film**. \n",
    "\n",
    "Remarque : Cela revient à faire l'hypothèse que la distribution des notes sur la base d'utilisateurs sera similaire à celle des deux précédents films (cela peut être contestable si les suites ne sont pas du niveau du premier film par exemple... mais nous pourrons difficilement faire mieux dans l'immédiat)."
   ]
  },
  {
   "cell_type": "markdown",
   "metadata": {},
   "source": [
    "### 3. Prétraitement de la base de données"
   ]
  },
  {
   "cell_type": "markdown",
   "metadata": {},
   "source": [
    "La base de données est contient un grand nombre de films et d'utilisateurs. La tâche est de recommander des films pertinents, pour un utilisateur dont on ne sait rien en dehors du fait qu'il est allé voir le film Inferno.\n",
    "\n",
    "**Problème** : Suite à quelques tests, il apparaît que le volume de données est problématique pour la tâche de prototypage que l'on réalise ici. On manque en effet d'une puissance de calcul suffisante pour itérer facilement et rapidement sur la base de données.\n",
    "\n",
    "**Solution retenue** : On choisit de réduire le volume du dataset en limitant le nombre d'utilisateurs et de films considérés, afin de pouvoir travailler plus facilement sur les données. On garde dans la base les 3000 films les souvent notés (ce qui facilitera le travail de recommandation en concentrant l'information), et 5000 utilisateurs tirés au hasard dans la base."
   ]
  },
  {
   "cell_type": "code",
   "execution_count": 11,
   "metadata": {},
   "outputs": [],
   "source": [
    "users_to_keep = np.random.choice(user_vc.index, 5000, replace=False)"
   ]
  },
  {
   "cell_type": "markdown",
   "metadata": {},
   "source": [
    "Nous allons également générer un test set pour évaluer plus tard notre système, en sélectionnant aléatoirement des utilisateurs en dehors du training set."
   ]
  },
  {
   "cell_type": "code",
   "execution_count": 12,
   "metadata": {},
   "outputs": [],
   "source": [
    "test_users = np.random.choice(list(set(user_vc.index) - set(users_to_keep)), 1000, replace = False)"
   ]
  },
  {
   "cell_type": "code",
   "execution_count": 13,
   "metadata": {},
   "outputs": [],
   "source": [
    "movies_to_keep = movie_vc[0:3000].index"
   ]
  },
  {
   "cell_type": "code",
   "execution_count": 14,
   "metadata": {},
   "outputs": [
    {
     "name": "stdout",
     "output_type": "stream",
     "text": [
      "True\n",
      "True\n"
     ]
    }
   ],
   "source": [
    "print(45447 in movies_to_keep)\n",
    "print(68554 in movies_to_keep)"
   ]
  },
  {
   "cell_type": "markdown",
   "metadata": {},
   "source": [
    "**Da Vinci Code** et **Anges et Démons** font bien parties des 3000 films que l'on a conservé dans la base de données : on peut maintenant filtrer la base."
   ]
  },
  {
   "cell_type": "code",
   "execution_count": 15,
   "metadata": {},
   "outputs": [],
   "source": [
    "df_ratings = df_ratings.loc[df_ratings['movieId'].isin(movies_to_keep)]\n",
    "df_ratings_train = df_ratings.loc[df_ratings['userId'].isin(users_to_keep)]\n",
    "df_ratings_test = df_ratings.loc[df_ratings['userId'].isin(test_users)]"
   ]
  },
  {
   "cell_type": "code",
   "execution_count": 16,
   "metadata": {},
   "outputs": [
    {
     "data": {
      "text/plain": [
       "(17599744, 3)"
      ]
     },
     "execution_count": 16,
     "metadata": {},
     "output_type": "execute_result"
    }
   ],
   "source": [
    "df_ratings.shape"
   ]
  },
  {
   "cell_type": "markdown",
   "metadata": {},
   "source": [
    "### 4. Exploration des caractéristiques des ratings"
   ]
  },
  {
   "cell_type": "code",
   "execution_count": 17,
   "metadata": {},
   "outputs": [
    {
     "name": "stdout",
     "output_type": "stream",
     "text": [
      "The mean rating on all database is : 3.565654534520502\n"
     ]
    },
    {
     "name": "stderr",
     "output_type": "stream",
     "text": [
      "/Library/Frameworks/Python.framework/Versions/3.6/lib/python3.6/site-packages/matplotlib/axes/_axes.py:6462: UserWarning: The 'normed' kwarg is deprecated, and has been replaced by the 'density' kwarg.\n",
      "  warnings.warn(\"The 'normed' kwarg is deprecated, and has been \"\n"
     ]
    },
    {
     "data": {
      "image/png": "[encoded data removed]",
      "text/plain": [
       "<Figure size 1008x432 with 2 Axes>"
      ]
     },
     "metadata": {},
     "output_type": "display_data"
    }
   ],
   "source": [
    "mean_rating = df_ratings['rating'].mean()\n",
    "mean_rating_by_user = df_ratings.groupby('userId').mean()['rating'].sort_values(ascending=False)\n",
    "mean_rating_by_movie = df_ratings.groupby('movieId').mean()['rating'].sort_values(ascending=False)\n",
    "print('The mean rating on all database is :', mean_rating)\n",
    "plt.figure(figsize = (14, 6))\n",
    "plt.subplot(1, 2, 1)\n",
    "sns.distplot(mean_rating_by_user)\n",
    "plt.title('Mean Rating by User')\n",
    "plt.subplot(1, 2, 2)\n",
    "sns.distplot(mean_rating_by_movie)\n",
    "plt.title('Mean Rating by Movie')\n",
    "plt.show()"
   ]
  },
  {
   "cell_type": "code",
   "execution_count": 18,
   "metadata": {},
   "outputs": [
    {
     "data": {
      "text/html": [
       "<div>\n",
       "<style scoped>\n",
       "    .dataframe tbody tr th:only-of-type {\n",
       "        vertical-align: middle;\n",
       "    }\n",
       "\n",
       "    .dataframe tbody tr th {\n",
       "        vertical-align: top;\n",
       "    }\n",
       "\n",
       "    .dataframe thead th {\n",
       "        text-align: right;\n",
       "    }\n",
       "</style>\n",
       "<table border=\"1\" class=\"dataframe\">\n",
       "  <thead>\n",
       "    <tr style=\"text-align: right;\">\n",
       "      <th></th>\n",
       "      <th>movieId</th>\n",
       "      <th>rating</th>\n",
       "      <th>title</th>\n",
       "    </tr>\n",
       "  </thead>\n",
       "  <tbody>\n",
       "    <tr>\n",
       "      <th>2995</th>\n",
       "      <td>3268</td>\n",
       "      <td>1.768392</td>\n",
       "      <td>Stop! Or My Mom Will Shoot (1992)</td>\n",
       "    </tr>\n",
       "    <tr>\n",
       "      <th>2996</th>\n",
       "      <td>1981</td>\n",
       "      <td>1.760067</td>\n",
       "      <td>Friday the 13th Part VIII: Jason Takes Manhatt...</td>\n",
       "    </tr>\n",
       "    <tr>\n",
       "      <th>2997</th>\n",
       "      <td>2799</td>\n",
       "      <td>1.760000</td>\n",
       "      <td>Problem Child 2 (1991)</td>\n",
       "    </tr>\n",
       "    <tr>\n",
       "      <th>2998</th>\n",
       "      <td>2555</td>\n",
       "      <td>1.703002</td>\n",
       "      <td>Baby Geniuses (1999)</td>\n",
       "    </tr>\n",
       "    <tr>\n",
       "      <th>2999</th>\n",
       "      <td>3593</td>\n",
       "      <td>1.600554</td>\n",
       "      <td>Battlefield Earth (2000)</td>\n",
       "    </tr>\n",
       "  </tbody>\n",
       "</table>\n",
       "</div>"
      ],
      "text/plain": [
       "      movieId    rating                                              title\n",
       "2995     3268  1.768392                  Stop! Or My Mom Will Shoot (1992)\n",
       "2996     1981  1.760067  Friday the 13th Part VIII: Jason Takes Manhatt...\n",
       "2997     2799  1.760000                             Problem Child 2 (1991)\n",
       "2998     2555  1.703002                               Baby Geniuses (1999)\n",
       "2999     3593  1.600554                           Battlefield Earth (2000)"
      ]
     },
     "execution_count": 18,
     "metadata": {},
     "output_type": "execute_result"
    }
   ],
   "source": [
    "df_movies = pd.read_csv(project_dir+'data/movies.csv', encoding = 'utf-8', delimiter=',')\n",
    "df_movies = df_movies.drop('genres', axis = 1)\n",
    "mean_rating_by_movie = pd.DataFrame({'movieId':mean_rating_by_movie.index.values.tolist(),'rating': mean_rating_by_movie})\n",
    "mean_rating_by_movie = pd.merge(mean_rating_by_movie, df_movies, on='movieId')\n",
    "print(mean_rating_by_movie.head())\n",
    "print(mean_rating_by_movie.tail())"
   ]
  },
  {
   "cell_type": "markdown",
   "metadata": {},
   "source": [
    "### 5. Génération de la matrice utilisateurs-films\n",
    "\n",
    "Afin de construire le moteur de recommandation, les données doivent se présenter sous forme d'une matrice, faisant figurer les utilisateurs en ligne et les films en colonne par exemple. On transforme donc la table initiale des ratings pour la passer du format *long* au format *large*, en utilisant la méthode pivot."
   ]
  },
  {
   "cell_type": "code",
   "execution_count": 21,
   "metadata": {},
   "outputs": [
    {
     "name": "stdout",
     "output_type": "stream",
     "text": [
      "(5000, 3000)\n"
     ]
    },
    {
     "data": {
      "text/html": [
       "<div>\n",
       "<style scoped>\n",
       "    .dataframe tbody tr th:only-of-type {\n",
       "        vertical-align: middle;\n",
       "    }\n",
       "\n",
       "    .dataframe tbody tr th {\n",
       "        vertical-align: top;\n",
       "    }\n",
       "\n",
       "    .dataframe thead th {\n",
       "        text-align: right;\n",
       "    }\n",
       "</style>\n",
       "<table border=\"1\" class=\"dataframe\">\n",
       "  <thead>\n",
       "    <tr style=\"text-align: right;\">\n",
       "      <th>movieId</th>\n",
       "      <th>1</th>\n",
       "      <th>2</th>\n",
       "      <th>3</th>\n",
       "      <th>4</th>\n",
       "      <th>5</th>\n",
       "      <th>6</th>\n",
       "      <th>7</th>\n",
       "      <th>8</th>\n",
       "      <th>9</th>\n",
       "      <th>10</th>\n",
       "      <th>...</th>\n",
       "      <th>106916</th>\n",
       "      <th>106920</th>\n",
       "      <th>108932</th>\n",
       "      <th>109374</th>\n",
       "      <th>109487</th>\n",
       "      <th>110102</th>\n",
       "      <th>111362</th>\n",
       "      <th>111759</th>\n",
       "      <th>112556</th>\n",
       "      <th>112852</th>\n",
       "    </tr>\n",
       "    <tr>\n",
       "      <th>userId</th>\n",
       "      <th></th>\n",
       "      <th></th>\n",
       "      <th></th>\n",
       "      <th></th>\n",
       "      <th></th>\n",
       "      <th></th>\n",
       "      <th></th>\n",
       "      <th></th>\n",
       "      <th></th>\n",
       "      <th></th>\n",
       "      <th></th>\n",
       "      <th></th>\n",
       "      <th></th>\n",
       "      <th></th>\n",
       "      <th></th>\n",
       "      <th></th>\n",
       "      <th></th>\n",
       "      <th></th>\n",
       "      <th></th>\n",
       "      <th></th>\n",
       "      <th></th>\n",
       "    </tr>\n",
       "  </thead>\n",
       "  <tbody>\n",
       "    <tr>\n",
       "      <th>31</th>\n",
       "      <td>3.0</td>\n",
       "      <td>NaN</td>\n",
       "      <td>NaN</td>\n",
       "      <td>NaN</td>\n",
       "      <td>NaN</td>\n",
       "      <td>NaN</td>\n",
       "      <td>NaN</td>\n",
       "      <td>NaN</td>\n",
       "      <td>NaN</td>\n",
       "      <td>NaN</td>\n",
       "      <td>...</td>\n",
       "      <td>NaN</td>\n",
       "      <td>NaN</td>\n",
       "      <td>NaN</td>\n",
       "      <td>NaN</td>\n",
       "      <td>NaN</td>\n",
       "      <td>NaN</td>\n",
       "      <td>NaN</td>\n",
       "      <td>NaN</td>\n",
       "      <td>NaN</td>\n",
       "      <td>4.5</td>\n",
       "    </tr>\n",
       "    <tr>\n",
       "      <th>34</th>\n",
       "      <td>5.0</td>\n",
       "      <td>3.0</td>\n",
       "      <td>NaN</td>\n",
       "      <td>NaN</td>\n",
       "      <td>NaN</td>\n",
       "      <td>NaN</td>\n",
       "      <td>3.0</td>\n",
       "      <td>NaN</td>\n",
       "      <td>NaN</td>\n",
       "      <td>5.0</td>\n",
       "      <td>...</td>\n",
       "      <td>NaN</td>\n",
       "      <td>NaN</td>\n",
       "      <td>NaN</td>\n",
       "      <td>NaN</td>\n",
       "      <td>NaN</td>\n",
       "      <td>NaN</td>\n",
       "      <td>NaN</td>\n",
       "      <td>NaN</td>\n",
       "      <td>NaN</td>\n",
       "      <td>NaN</td>\n",
       "    </tr>\n",
       "    <tr>\n",
       "      <th>80</th>\n",
       "      <td>3.0</td>\n",
       "      <td>NaN</td>\n",
       "      <td>3.0</td>\n",
       "      <td>NaN</td>\n",
       "      <td>NaN</td>\n",
       "      <td>NaN</td>\n",
       "      <td>3.0</td>\n",
       "      <td>NaN</td>\n",
       "      <td>NaN</td>\n",
       "      <td>NaN</td>\n",
       "      <td>...</td>\n",
       "      <td>NaN</td>\n",
       "      <td>NaN</td>\n",
       "      <td>NaN</td>\n",
       "      <td>NaN</td>\n",
       "      <td>NaN</td>\n",
       "      <td>NaN</td>\n",
       "      <td>NaN</td>\n",
       "      <td>NaN</td>\n",
       "      <td>NaN</td>\n",
       "      <td>NaN</td>\n",
       "    </tr>\n",
       "    <tr>\n",
       "      <th>89</th>\n",
       "      <td>NaN</td>\n",
       "      <td>NaN</td>\n",
       "      <td>NaN</td>\n",
       "      <td>NaN</td>\n",
       "      <td>NaN</td>\n",
       "      <td>NaN</td>\n",
       "      <td>NaN</td>\n",
       "      <td>NaN</td>\n",
       "      <td>NaN</td>\n",
       "      <td>NaN</td>\n",
       "      <td>...</td>\n",
       "      <td>NaN</td>\n",
       "      <td>NaN</td>\n",
       "      <td>NaN</td>\n",
       "      <td>NaN</td>\n",
       "      <td>NaN</td>\n",
       "      <td>NaN</td>\n",
       "      <td>NaN</td>\n",
       "      <td>NaN</td>\n",
       "      <td>NaN</td>\n",
       "      <td>NaN</td>\n",
       "    </tr>\n",
       "    <tr>\n",
       "      <th>94</th>\n",
       "      <td>NaN</td>\n",
       "      <td>NaN</td>\n",
       "      <td>NaN</td>\n",
       "      <td>NaN</td>\n",
       "      <td>NaN</td>\n",
       "      <td>NaN</td>\n",
       "      <td>NaN</td>\n",
       "      <td>NaN</td>\n",
       "      <td>NaN</td>\n",
       "      <td>NaN</td>\n",
       "      <td>...</td>\n",
       "      <td>NaN</td>\n",
       "      <td>NaN</td>\n",
       "      <td>NaN</td>\n",
       "      <td>NaN</td>\n",
       "      <td>NaN</td>\n",
       "      <td>NaN</td>\n",
       "      <td>NaN</td>\n",
       "      <td>NaN</td>\n",
       "      <td>NaN</td>\n",
       "      <td>NaN</td>\n",
       "    </tr>\n",
       "  </tbody>\n",
       "</table>\n",
       "<p>5 rows × 3000 columns</p>\n",
       "</div>"
      ],
      "text/plain": [
       "movieId  1       2       3       4       5       6       7       8       \\\n",
       "userId                                                                    \n",
       "31          3.0     NaN     NaN     NaN     NaN     NaN     NaN     NaN   \n",
       "34          5.0     3.0     NaN     NaN     NaN     NaN     3.0     NaN   \n",
       "80          3.0     NaN     3.0     NaN     NaN     NaN     3.0     NaN   \n",
       "89          NaN     NaN     NaN     NaN     NaN     NaN     NaN     NaN   \n",
       "94          NaN     NaN     NaN     NaN     NaN     NaN     NaN     NaN   \n",
       "\n",
       "movieId  9       10       ...    106916  106920  108932  109374  109487  \\\n",
       "userId                    ...                                             \n",
       "31          NaN     NaN   ...       NaN     NaN     NaN     NaN     NaN   \n",
       "34          NaN     5.0   ...       NaN     NaN     NaN     NaN     NaN   \n",
       "80          NaN     NaN   ...       NaN     NaN     NaN     NaN     NaN   \n",
       "89          NaN     NaN   ...       NaN     NaN     NaN     NaN     NaN   \n",
       "94          NaN     NaN   ...       NaN     NaN     NaN     NaN     NaN   \n",
       "\n",
       "movieId  110102  111362  111759  112556  112852  \n",
       "userId                                           \n",
       "31          NaN     NaN     NaN     NaN     4.5  \n",
       "34          NaN     NaN     NaN     NaN     NaN  \n",
       "80          NaN     NaN     NaN     NaN     NaN  \n",
       "89          NaN     NaN     NaN     NaN     NaN  \n",
       "94          NaN     NaN     NaN     NaN     NaN  \n",
       "\n",
       "[5 rows x 3000 columns]"
      ]
     },
     "execution_count": 21,
     "metadata": {},
     "output_type": "execute_result"
    }
   ],
   "source": [
    "user_movie_matrix_train = df_ratings_train.pivot(index='userId', columns='movieId', values='rating')\n",
    "print(user_movie_matrix_train.shape)\n",
    "user_movie_matrix_train.head()"
   ]
  },
  {
   "cell_type": "code",
   "execution_count": 22,
   "metadata": {},
   "outputs": [
    {
     "name": "stdout",
     "output_type": "stream",
     "text": [
      "(1000, 3000)\n"
     ]
    },
    {
     "data": {
      "text/html": [
       "<div>\n",
       "<style scoped>\n",
       "    .dataframe tbody tr th:only-of-type {\n",
       "        vertical-align: middle;\n",
       "    }\n",
       "\n",
       "    .dataframe tbody tr th {\n",
       "        vertical-align: top;\n",
       "    }\n",
       "\n",
       "    .dataframe thead th {\n",
       "        text-align: right;\n",
       "    }\n",
       "</style>\n",
       "<table border=\"1\" class=\"dataframe\">\n",
       "  <thead>\n",
       "    <tr style=\"text-align: right;\">\n",
       "      <th>movieId</th>\n",
       "      <th>1</th>\n",
       "      <th>2</th>\n",
       "      <th>3</th>\n",
       "      <th>4</th>\n",
       "      <th>5</th>\n",
       "      <th>6</th>\n",
       "      <th>7</th>\n",
       "      <th>8</th>\n",
       "      <th>9</th>\n",
       "      <th>10</th>\n",
       "      <th>...</th>\n",
       "      <th>106916</th>\n",
       "      <th>106920</th>\n",
       "      <th>108932</th>\n",
       "      <th>109374</th>\n",
       "      <th>109487</th>\n",
       "      <th>110102</th>\n",
       "      <th>111362</th>\n",
       "      <th>111759</th>\n",
       "      <th>112556</th>\n",
       "      <th>112852</th>\n",
       "    </tr>\n",
       "    <tr>\n",
       "      <th>userId</th>\n",
       "      <th></th>\n",
       "      <th></th>\n",
       "      <th></th>\n",
       "      <th></th>\n",
       "      <th></th>\n",
       "      <th></th>\n",
       "      <th></th>\n",
       "      <th></th>\n",
       "      <th></th>\n",
       "      <th></th>\n",
       "      <th></th>\n",
       "      <th></th>\n",
       "      <th></th>\n",
       "      <th></th>\n",
       "      <th></th>\n",
       "      <th></th>\n",
       "      <th></th>\n",
       "      <th></th>\n",
       "      <th></th>\n",
       "      <th></th>\n",
       "      <th></th>\n",
       "    </tr>\n",
       "  </thead>\n",
       "  <tbody>\n",
       "    <tr>\n",
       "      <th>227</th>\n",
       "      <td>NaN</td>\n",
       "      <td>NaN</td>\n",
       "      <td>NaN</td>\n",
       "      <td>NaN</td>\n",
       "      <td>NaN</td>\n",
       "      <td>NaN</td>\n",
       "      <td>NaN</td>\n",
       "      <td>NaN</td>\n",
       "      <td>NaN</td>\n",
       "      <td>NaN</td>\n",
       "      <td>...</td>\n",
       "      <td>NaN</td>\n",
       "      <td>NaN</td>\n",
       "      <td>NaN</td>\n",
       "      <td>NaN</td>\n",
       "      <td>NaN</td>\n",
       "      <td>NaN</td>\n",
       "      <td>NaN</td>\n",
       "      <td>NaN</td>\n",
       "      <td>NaN</td>\n",
       "      <td>NaN</td>\n",
       "    </tr>\n",
       "    <tr>\n",
       "      <th>300</th>\n",
       "      <td>NaN</td>\n",
       "      <td>NaN</td>\n",
       "      <td>NaN</td>\n",
       "      <td>NaN</td>\n",
       "      <td>NaN</td>\n",
       "      <td>NaN</td>\n",
       "      <td>NaN</td>\n",
       "      <td>NaN</td>\n",
       "      <td>NaN</td>\n",
       "      <td>NaN</td>\n",
       "      <td>...</td>\n",
       "      <td>NaN</td>\n",
       "      <td>NaN</td>\n",
       "      <td>NaN</td>\n",
       "      <td>NaN</td>\n",
       "      <td>NaN</td>\n",
       "      <td>NaN</td>\n",
       "      <td>NaN</td>\n",
       "      <td>NaN</td>\n",
       "      <td>NaN</td>\n",
       "      <td>NaN</td>\n",
       "    </tr>\n",
       "    <tr>\n",
       "      <th>914</th>\n",
       "      <td>NaN</td>\n",
       "      <td>NaN</td>\n",
       "      <td>NaN</td>\n",
       "      <td>NaN</td>\n",
       "      <td>NaN</td>\n",
       "      <td>NaN</td>\n",
       "      <td>NaN</td>\n",
       "      <td>NaN</td>\n",
       "      <td>NaN</td>\n",
       "      <td>NaN</td>\n",
       "      <td>...</td>\n",
       "      <td>NaN</td>\n",
       "      <td>NaN</td>\n",
       "      <td>NaN</td>\n",
       "      <td>NaN</td>\n",
       "      <td>NaN</td>\n",
       "      <td>NaN</td>\n",
       "      <td>NaN</td>\n",
       "      <td>NaN</td>\n",
       "      <td>NaN</td>\n",
       "      <td>NaN</td>\n",
       "    </tr>\n",
       "    <tr>\n",
       "      <th>1159</th>\n",
       "      <td>5.0</td>\n",
       "      <td>4.0</td>\n",
       "      <td>NaN</td>\n",
       "      <td>NaN</td>\n",
       "      <td>NaN</td>\n",
       "      <td>NaN</td>\n",
       "      <td>2.0</td>\n",
       "      <td>NaN</td>\n",
       "      <td>NaN</td>\n",
       "      <td>NaN</td>\n",
       "      <td>...</td>\n",
       "      <td>NaN</td>\n",
       "      <td>NaN</td>\n",
       "      <td>NaN</td>\n",
       "      <td>NaN</td>\n",
       "      <td>NaN</td>\n",
       "      <td>NaN</td>\n",
       "      <td>NaN</td>\n",
       "      <td>NaN</td>\n",
       "      <td>NaN</td>\n",
       "      <td>NaN</td>\n",
       "    </tr>\n",
       "    <tr>\n",
       "      <th>1246</th>\n",
       "      <td>5.0</td>\n",
       "      <td>NaN</td>\n",
       "      <td>NaN</td>\n",
       "      <td>NaN</td>\n",
       "      <td>NaN</td>\n",
       "      <td>NaN</td>\n",
       "      <td>NaN</td>\n",
       "      <td>NaN</td>\n",
       "      <td>NaN</td>\n",
       "      <td>NaN</td>\n",
       "      <td>...</td>\n",
       "      <td>NaN</td>\n",
       "      <td>NaN</td>\n",
       "      <td>NaN</td>\n",
       "      <td>NaN</td>\n",
       "      <td>NaN</td>\n",
       "      <td>NaN</td>\n",
       "      <td>NaN</td>\n",
       "      <td>NaN</td>\n",
       "      <td>NaN</td>\n",
       "      <td>NaN</td>\n",
       "    </tr>\n",
       "  </tbody>\n",
       "</table>\n",
       "<p>5 rows × 3000 columns</p>\n",
       "</div>"
      ],
      "text/plain": [
       "movieId  1       2       3       4       5       6       7       8       \\\n",
       "userId                                                                    \n",
       "227         NaN     NaN     NaN     NaN     NaN     NaN     NaN     NaN   \n",
       "300         NaN     NaN     NaN     NaN     NaN     NaN     NaN     NaN   \n",
       "914         NaN     NaN     NaN     NaN     NaN     NaN     NaN     NaN   \n",
       "1159        5.0     4.0     NaN     NaN     NaN     NaN     2.0     NaN   \n",
       "1246        5.0     NaN     NaN     NaN     NaN     NaN     NaN     NaN   \n",
       "\n",
       "movieId  9       10       ...    106916  106920  108932  109374  109487  \\\n",
       "userId                    ...                                             \n",
       "227         NaN     NaN   ...       NaN     NaN     NaN     NaN     NaN   \n",
       "300         NaN     NaN   ...       NaN     NaN     NaN     NaN     NaN   \n",
       "914         NaN     NaN   ...       NaN     NaN     NaN     NaN     NaN   \n",
       "1159        NaN     NaN   ...       NaN     NaN     NaN     NaN     NaN   \n",
       "1246        NaN     NaN   ...       NaN     NaN     NaN     NaN     NaN   \n",
       "\n",
       "movieId  110102  111362  111759  112556  112852  \n",
       "userId                                           \n",
       "227         NaN     NaN     NaN     NaN     NaN  \n",
       "300         NaN     NaN     NaN     NaN     NaN  \n",
       "914         NaN     NaN     NaN     NaN     NaN  \n",
       "1159        NaN     NaN     NaN     NaN     NaN  \n",
       "1246        NaN     NaN     NaN     NaN     NaN  \n",
       "\n",
       "[5 rows x 3000 columns]"
      ]
     },
     "execution_count": 22,
     "metadata": {},
     "output_type": "execute_result"
    }
   ],
   "source": [
    "user_movie_matrix_test = df_ratings_test.pivot(index='userId', columns='movieId', values='rating')\n",
    "print(user_movie_matrix_test.shape)\n",
    "user_movie_matrix_test.head()"
   ]
  },
  {
   "cell_type": "markdown",
   "metadata": {},
   "source": [
    "On sauvegarde enfin ces matrices dans deux fichiers csv."
   ]
  },
  {
   "cell_type": "code",
   "execution_count": 23,
   "metadata": {},
   "outputs": [],
   "source": [
    "user_movie_matrix_train.to_csv(project_dir+'data/um_matrix_train.csv', encoding = 'utf-8', sep=',')\n",
    "user_movie_matrix_test.to_csv(project_dir+'data/um_matrix_test.csv', encoding = 'utf-8', sep=',')"
   ]
  }
 ],
 "metadata": {
  "kernelspec": {
   "display_name": "Python 3",
   "language": "python",
   "name": "python3"
  },
  "language_info": {
   "codemirror_mode": {
    "name": "ipython",
    "version": 3
   },
   "file_extension": ".py",
   "mimetype": "text/x-python",
   "name": "python",
   "nbconvert_exporter": "python",
   "pygments_lexer": "ipython3",
   "version": "3.6.5"
  }
 },
 "nbformat": 4,
 "nbformat_minor": 2
}
