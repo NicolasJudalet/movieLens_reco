{
 "cells": [
  {
   "cell_type": "markdown",
   "metadata": {},
   "source": [
    "# Building a Recommender System on the Movie Lens dataset 1 - Cleaning the movies table\n",
    "\n",
    "**Subject** - Hired by a Parisian cinema, you want to recommend VOD movies to the clients based on what they went to see during the week. What do you recommend for someone who just saw Inferno, by Ron Howard ?\n",
    "\n",
    "**Data** - First start by downloading the MovieLens 20M Dataset (https://grouplens.org/datasets/movielens/) and place the files into your project directory, in a subdirectory named 'data'\n",
    "\n",
    "**This notebook focuses on treating and cleaning the \"Movies\" table**"
   ]
  },
  {
   "cell_type": "code",
   "execution_count": 1,
   "metadata": {},
   "outputs": [],
   "source": [
    "import pandas as pd\n",
    "import numpy as np\n",
    "import seaborn as sns"
   ]
  },
  {
   "cell_type": "code",
   "execution_count": 2,
   "metadata": {},
   "outputs": [],
   "source": [
    "project_dir = '/Users/nicolasjudalet/Desktop/Ignition Challenge/'\n",
    "df_movies = pd.read_csv(project_dir+'data/movies.csv', encoding = 'utf-8', delimiter=',')"
   ]
  },
  {
   "cell_type": "code",
   "execution_count": 3,
   "metadata": {},
   "outputs": [
    {
     "data": {
      "text/html": [
       "<div>\n",
       "<style scoped>\n",
       "    .dataframe tbody tr th:only-of-type {\n",
       "        vertical-align: middle;\n",
       "    }\n",
       "\n",
       "    .dataframe tbody tr th {\n",
       "        vertical-align: top;\n",
       "    }\n",
       "\n",
       "    .dataframe thead th {\n",
       "        text-align: right;\n",
       "    }\n",
       "</style>\n",
       "<table border=\"1\" class=\"dataframe\">\n",
       "  <thead>\n",
       "    <tr style=\"text-align: right;\">\n",
       "      <th></th>\n",
       "      <th>movieId</th>\n",
       "      <th>title</th>\n",
       "      <th>genres</th>\n",
       "    </tr>\n",
       "  </thead>\n",
       "  <tbody>\n",
       "    <tr>\n",
       "      <th>0</th>\n",
       "      <td>1</td>\n",
       "      <td>Toy Story (1995)</td>\n",
       "      <td>Adventure|Animation|Children|Comedy|Fantasy</td>\n",
       "    </tr>\n",
       "    <tr>\n",
       "      <th>1</th>\n",
       "      <td>2</td>\n",
       "      <td>Jumanji (1995)</td>\n",
       "      <td>Adventure|Children|Fantasy</td>\n",
       "    </tr>\n",
       "    <tr>\n",
       "      <th>2</th>\n",
       "      <td>3</td>\n",
       "      <td>Grumpier Old Men (1995)</td>\n",
       "      <td>Comedy|Romance</td>\n",
       "    </tr>\n",
       "    <tr>\n",
       "      <th>3</th>\n",
       "      <td>4</td>\n",
       "      <td>Waiting to Exhale (1995)</td>\n",
       "      <td>Comedy|Drama|Romance</td>\n",
       "    </tr>\n",
       "    <tr>\n",
       "      <th>4</th>\n",
       "      <td>5</td>\n",
       "      <td>Father of the Bride Part II (1995)</td>\n",
       "      <td>Comedy</td>\n",
       "    </tr>\n",
       "  </tbody>\n",
       "</table>\n",
       "</div>"
      ],
      "text/plain": [
       "   movieId                               title  \\\n",
       "0        1                    Toy Story (1995)   \n",
       "1        2                      Jumanji (1995)   \n",
       "2        3             Grumpier Old Men (1995)   \n",
       "3        4            Waiting to Exhale (1995)   \n",
       "4        5  Father of the Bride Part II (1995)   \n",
       "\n",
       "                                        genres  \n",
       "0  Adventure|Animation|Children|Comedy|Fantasy  \n",
       "1                   Adventure|Children|Fantasy  \n",
       "2                               Comedy|Romance  \n",
       "3                         Comedy|Drama|Romance  \n",
       "4                                       Comedy  "
      ]
     },
     "execution_count": 3,
     "metadata": {},
     "output_type": "execute_result"
    }
   ],
   "source": [
    "df_movies.head()"
   ]
  },
  {
   "cell_type": "code",
   "execution_count": 4,
   "metadata": {},
   "outputs": [
    {
     "data": {
      "text/plain": [
       "movieId    0\n",
       "title      0\n",
       "genres     0\n",
       "dtype: int64"
      ]
     },
     "execution_count": 4,
     "metadata": {},
     "output_type": "execute_result"
    }
   ],
   "source": [
    "df_movies.isnull().sum() # there are no missing values in the movies table"
   ]
  },
  {
   "cell_type": "markdown",
   "metadata": {},
   "source": [
    "It looks like the title column and genres columns can be parsed to obtain information resp. on the year of the movie and the different genres it belongs to."
   ]
  },
  {
   "cell_type": "markdown",
   "metadata": {},
   "source": [
    "### Extract year from title of the movies"
   ]
  },
  {
   "cell_type": "code",
   "execution_count": 5,
   "metadata": {},
   "outputs": [
    {
     "name": "stdout",
     "output_type": "stream",
     "text": [
      "No match count :  229\n"
     ]
    }
   ],
   "source": [
    "import re\n",
    "titles = np.zeros(len(df_movies.title))\n",
    "no_match_count = 0\n",
    "for i, title in enumerate(df_movies.title):\n",
    "    pat = re.compile('\\([0-9]{4}\\)\\Z')\n",
    "    year_found = pat.search(string=title)\n",
    "    if year_found:\n",
    "        titles[i] = re.sub(pattern='[()]', repl='', string=year_found.group())*1\n",
    "    else:\n",
    "        no_match_count += 1\n",
    "print('No match count : ', no_match_count)"
   ]
  },
  {
   "cell_type": "markdown",
   "metadata": {},
   "source": [
    "It seems that the year was found in most titles, except 229 of them. Let us have a look at them"
   ]
  },
  {
   "cell_type": "code",
   "execution_count": 6,
   "metadata": {},
   "outputs": [],
   "source": [
    "df_no_match = df_movies[titles == 0]\n",
    "#print(df_no_match.head())\n",
    "#print(df_no_match.tail())"
   ]
  },
  {
   "cell_type": "markdown",
   "metadata": {},
   "source": [
    "Indeed, some titles seem to have no date : it is understandable that the search did not match.\n",
    "Others seem to have a date in the right format... Let us try to understand why the match wes not performed."
   ]
  },
  {
   "cell_type": "code",
   "execution_count": 7,
   "metadata": {},
   "outputs": [
    {
     "data": {
      "text/plain": [
       "'Babe Ruth Story, The (1948) '"
      ]
     },
     "execution_count": 7,
     "metadata": {},
     "output_type": "execute_result"
    }
   ],
   "source": [
    "test = df_no_match.title[8495]\n",
    "test"
   ]
  },
  {
   "cell_type": "markdown",
   "metadata": {},
   "source": [
    "The match failed because of a space character at the end of the name. Let'us try to add this case into our search."
   ]
  },
  {
   "cell_type": "code",
   "execution_count": 8,
   "metadata": {},
   "outputs": [
    {
     "name": "stdout",
     "output_type": "stream",
     "text": [
      "No match count :  22\n"
     ]
    }
   ],
   "source": [
    "no_match_count = 0\n",
    "for title in df_no_match.title:\n",
    "    index = df_no_match[df_no_match.title == title].index.values\n",
    "    pat = re.compile('\\([0-9]{4}\\) *')\n",
    "    year_found = pat.search(string=title)\n",
    "    if year_found:\n",
    "        titles[index] = re.sub(pattern='[() ]', repl='', string=year_found.group())*1\n",
    "    else:\n",
    "        no_match_count += 1\n",
    "print('No match count : ', no_match_count)"
   ]
  },
  {
   "cell_type": "markdown",
   "metadata": {},
   "source": [
    "There are now only 22 rows with no year found. Let us do a final check on them. "
   ]
  },
  {
   "cell_type": "code",
   "execution_count": 9,
   "metadata": {},
   "outputs": [],
   "source": [
    "df_no_match = df_movies[titles == 0]\n",
    "#df_no_match"
   ]
  },
  {
   "cell_type": "markdown",
   "metadata": {},
   "source": [
    "Most of them do not actually have a year indicated in the title. Three of them can be added manually to the year column, with the mean year of all years between the start year indicated and the last year of the dataset, i.e. 2015"
   ]
  },
  {
   "cell_type": "code",
   "execution_count": 10,
   "metadata": {},
   "outputs": [],
   "source": [
    "titles[22368] = 2012 # Diplomatic Immunity\n",
    "titles[22669] = 2011 # Big Bang Theory\n",
    "titles[22679] = 1977 # Fawlty Towers"
   ]
  },
  {
   "cell_type": "code",
   "execution_count": 11,
   "metadata": {},
   "outputs": [],
   "source": [
    "df_movies['year'] = titles\n",
    "df_movies['year'] = df_movies.year.astype(int)\n",
    "df_movies.loc[df_movies.year == 0, 'year'] = np.nan\n",
    "#df_movies"
   ]
  },
  {
   "cell_type": "markdown",
   "metadata": {},
   "source": [
    "### Separate Genres into different columns"
   ]
  },
  {
   "cell_type": "code",
   "execution_count": 21,
   "metadata": {},
   "outputs": [],
   "source": [
    "#df_movies.genres.value_counts()"
   ]
  },
  {
   "cell_type": "markdown",
   "metadata": {},
   "source": [
    "It seems that the genres are separated by the character '|' and not so many of them are present in the dataset. From the first data inspection, we also know that some movies present the value '(no genres listed)'. We are first going to extract the whole vocabulary that is used to describe genres."
   ]
  },
  {
   "cell_type": "code",
   "execution_count": 13,
   "metadata": {},
   "outputs": [],
   "source": [
    "genres_voc = set('|'.join(df_movies.genres.tolist()).split('|'))\n",
    "genres_voc.remove('(no genres listed)')\n",
    "# genres_voc"
   ]
  },
  {
   "cell_type": "code",
   "execution_count": 14,
   "metadata": {},
   "outputs": [],
   "source": [
    "def find_word(row, word):\n",
    "    return(word in row.genres)\n",
    "\n",
    "for genre in genres_voc:\n",
    "    df_movies['genre_' + genre] = df_movies.apply(lambda row: find_word(row, word=genre), axis = 1)\n",
    "\n",
    "df_movies = df_movies.drop('genres', axis = 1)\n",
    "#df_movies.head()"
   ]
  },
  {
   "cell_type": "code",
   "execution_count": 17,
   "metadata": {},
   "outputs": [
    {
     "data": {
      "text/plain": [
       "2015.0"
      ]
     },
     "execution_count": 17,
     "metadata": {},
     "output_type": "execute_result"
    }
   ],
   "source": [
    "np.max(df_movies['year'])"
   ]
  },
  {
   "cell_type": "markdown",
   "metadata": {},
   "source": [
    "### Write down results in csv file"
   ]
  },
  {
   "cell_type": "code",
   "execution_count": 19,
   "metadata": {},
   "outputs": [],
   "source": [
    "df_movies.to_csv(project_dir+'data/movies_cleaned.csv', encoding = 'utf-8', sep=',', index=False)"
   ]
  }
 ],
 "metadata": {
  "kernelspec": {
   "display_name": "Python 3",
   "language": "python",
   "name": "python3"
  },
  "language_info": {
   "codemirror_mode": {
    "name": "ipython",
    "version": 3
   },
   "file_extension": ".py",
   "mimetype": "text/x-python",
   "name": "python",
   "nbconvert_exporter": "python",
   "pygments_lexer": "ipython3",
   "version": "3.6.5"
  }
 },
 "nbformat": 4,
 "nbformat_minor": 2
}
